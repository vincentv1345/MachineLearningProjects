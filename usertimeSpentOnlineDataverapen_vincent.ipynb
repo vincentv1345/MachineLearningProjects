{
  "nbformat": 4,
  "nbformat_minor": 0,
  "metadata": {
    "colab": {
      "provenance": [],
      "collapsed_sections": [
        "fAwMtft9fF9U"
      ],
      "include_colab_link": true
    },
    "kernelspec": {
      "name": "python3",
      "display_name": "Python 3"
    },
    "language_info": {
      "name": "python"
    }
  },
  "cells": [
    {
      "cell_type": "markdown",
      "metadata": {
        "id": "view-in-github",
        "colab_type": "text"
      },
      "source": [
        "<a href=\"https://colab.research.google.com/github/vincentv1345/MachineLearningProjects/blob/main/usertimeSpentOnlineDataverapen_vincent.ipynb\" target=\"_parent\"><img src=\"https://colab.research.google.com/assets/colab-badge.svg\" alt=\"Open In Colab\"/></a>"
      ]
    },
    {
      "cell_type": "markdown",
      "source": [
        "## 1. Load Data Perform General EDA\n",
        "### l. import libraries: pandas, numpy, matplotlib(set %matplotlib inline), matplotlibs pyplot, seaborn, missiningno, scipy's stats, sklearn"
      ],
      "metadata": {
        "id": "LX7eV8_tupDc"
      }
    },
    {
      "cell_type": "code",
      "execution_count": null,
      "metadata": {
        "id": "gu_QZwG8p4Lg"
      },
      "outputs": [],
      "source": [
        "import pandas as pd\n",
        "import numpy as np\n",
        "import matplotlib.pyplot as plt\n",
        "%matplotlib inline\n",
        "import seaborn as sns\n",
        "import missingno as msno\n",
        "from scipy import stats\n",
        "from sklearn.model_selection import train_test_split\n",
        "from sklearn.preprocessing import StandardScaler\n",
        "from sklearn.linear_model import LinearRegression, SGDRegressor\n",
        "from sklearn import metrics\n",
        "from sklearn.preprocessing import PolynomialFeatures"
      ]
    },
    {
      "cell_type": "markdown",
      "source": [
        "#### ll. Import data to a data frame and show the top 5 and last 5 rows and columns"
      ],
      "metadata": {
        "id": "DSHZR013xBEl"
      }
    },
    {
      "cell_type": "code",
      "source": [
        "df = pd.read_csv('ecommarce.csv')\n",
        "df.head()"
      ],
      "metadata": {
        "id": "QhTxUBWet1-Y",
        "colab": {
          "base_uri": "https://localhost:8080/",
          "height": 424
        },
        "outputId": "d3ebe8f1-2b3c-4e96-fc59-0c1f7f492e36"
      },
      "execution_count": null,
      "outputs": [
        {
          "output_type": "execute_result",
          "data": {
            "text/plain": [
              "   Unnamed: 0         Email                                           Address  \\\n",
              "0           0  adkv@ota.com               89280 Mark Lane\\nNew John, MN 16131   \n",
              "1           1  gjun@syj.com  363 Amanda Cliff Apt. 638\\nWest Angela, KS 31437   \n",
              "2           2  qjyr@pkk.com           62008 Adam Lodge\\nLake Pamela, NY 30677   \n",
              "3           3  jkiu@xsb.com         950 Tami Island\\nLake Aimeeview, MT 93614   \n",
              "4           4  stvb@niy.com       08254 Kelly Squares\\nNorth Lauren, AR 78382   \n",
              "\n",
              "           Credit Card  Avg. Session Length  Time on App  Time on Website  \\\n",
              "0     3544288738428794            35.497268    13.655651        40.577668   \n",
              "1     6546228325389133            32.926272    12.109461        38.268959   \n",
              "2  4406395951712628314            34.000915    12.330278        38.110597   \n",
              "3       30334036663133            35.305557    14.717514        37.721283   \n",
              "4     3582080469154498            34.330673    13.795189        38.536653   \n",
              "\n",
              "   Length of Membership  Yearly Amount Spent  \n",
              "0              4.582621           588.951054  \n",
              "1              3.164034           393.204933  \n",
              "2              4.604543           488.547505  \n",
              "3              3.620179           582.852344  \n",
              "4              4.946308           600.406092  "
            ],
            "text/html": [
              "\n",
              "  <div id=\"df-1f07328f-4def-479f-8ff9-d0b03710e831\">\n",
              "    <div class=\"colab-df-container\">\n",
              "      <div>\n",
              "<style scoped>\n",
              "    .dataframe tbody tr th:only-of-type {\n",
              "        vertical-align: middle;\n",
              "    }\n",
              "\n",
              "    .dataframe tbody tr th {\n",
              "        vertical-align: top;\n",
              "    }\n",
              "\n",
              "    .dataframe thead th {\n",
              "        text-align: right;\n",
              "    }\n",
              "</style>\n",
              "<table border=\"1\" class=\"dataframe\">\n",
              "  <thead>\n",
              "    <tr style=\"text-align: right;\">\n",
              "      <th></th>\n",
              "      <th>Unnamed: 0</th>\n",
              "      <th>Email</th>\n",
              "      <th>Address</th>\n",
              "      <th>Credit Card</th>\n",
              "      <th>Avg. Session Length</th>\n",
              "      <th>Time on App</th>\n",
              "      <th>Time on Website</th>\n",
              "      <th>Length of Membership</th>\n",
              "      <th>Yearly Amount Spent</th>\n",
              "    </tr>\n",
              "  </thead>\n",
              "  <tbody>\n",
              "    <tr>\n",
              "      <th>0</th>\n",
              "      <td>0</td>\n",
              "      <td>adkv@ota.com</td>\n",
              "      <td>89280 Mark Lane\\nNew John, MN 16131</td>\n",
              "      <td>3544288738428794</td>\n",
              "      <td>35.497268</td>\n",
              "      <td>13.655651</td>\n",
              "      <td>40.577668</td>\n",
              "      <td>4.582621</td>\n",
              "      <td>588.951054</td>\n",
              "    </tr>\n",
              "    <tr>\n",
              "      <th>1</th>\n",
              "      <td>1</td>\n",
              "      <td>gjun@syj.com</td>\n",
              "      <td>363 Amanda Cliff Apt. 638\\nWest Angela, KS 31437</td>\n",
              "      <td>6546228325389133</td>\n",
              "      <td>32.926272</td>\n",
              "      <td>12.109461</td>\n",
              "      <td>38.268959</td>\n",
              "      <td>3.164034</td>\n",
              "      <td>393.204933</td>\n",
              "    </tr>\n",
              "    <tr>\n",
              "      <th>2</th>\n",
              "      <td>2</td>\n",
              "      <td>qjyr@pkk.com</td>\n",
              "      <td>62008 Adam Lodge\\nLake Pamela, NY 30677</td>\n",
              "      <td>4406395951712628314</td>\n",
              "      <td>34.000915</td>\n",
              "      <td>12.330278</td>\n",
              "      <td>38.110597</td>\n",
              "      <td>4.604543</td>\n",
              "      <td>488.547505</td>\n",
              "    </tr>\n",
              "    <tr>\n",
              "      <th>3</th>\n",
              "      <td>3</td>\n",
              "      <td>jkiu@xsb.com</td>\n",
              "      <td>950 Tami Island\\nLake Aimeeview, MT 93614</td>\n",
              "      <td>30334036663133</td>\n",
              "      <td>35.305557</td>\n",
              "      <td>14.717514</td>\n",
              "      <td>37.721283</td>\n",
              "      <td>3.620179</td>\n",
              "      <td>582.852344</td>\n",
              "    </tr>\n",
              "    <tr>\n",
              "      <th>4</th>\n",
              "      <td>4</td>\n",
              "      <td>stvb@niy.com</td>\n",
              "      <td>08254 Kelly Squares\\nNorth Lauren, AR 78382</td>\n",
              "      <td>3582080469154498</td>\n",
              "      <td>34.330673</td>\n",
              "      <td>13.795189</td>\n",
              "      <td>38.536653</td>\n",
              "      <td>4.946308</td>\n",
              "      <td>600.406092</td>\n",
              "    </tr>\n",
              "  </tbody>\n",
              "</table>\n",
              "</div>\n",
              "      <button class=\"colab-df-convert\" onclick=\"convertToInteractive('df-1f07328f-4def-479f-8ff9-d0b03710e831')\"\n",
              "              title=\"Convert this dataframe to an interactive table.\"\n",
              "              style=\"display:none;\">\n",
              "        \n",
              "  <svg xmlns=\"http://www.w3.org/2000/svg\" height=\"24px\"viewBox=\"0 0 24 24\"\n",
              "       width=\"24px\">\n",
              "    <path d=\"M0 0h24v24H0V0z\" fill=\"none\"/>\n",
              "    <path d=\"M18.56 5.44l.94 2.06.94-2.06 2.06-.94-2.06-.94-.94-2.06-.94 2.06-2.06.94zm-11 1L8.5 8.5l.94-2.06 2.06-.94-2.06-.94L8.5 2.5l-.94 2.06-2.06.94zm10 10l.94 2.06.94-2.06 2.06-.94-2.06-.94-.94-2.06-.94 2.06-2.06.94z\"/><path d=\"M17.41 7.96l-1.37-1.37c-.4-.4-.92-.59-1.43-.59-.52 0-1.04.2-1.43.59L10.3 9.45l-7.72 7.72c-.78.78-.78 2.05 0 2.83L4 21.41c.39.39.9.59 1.41.59.51 0 1.02-.2 1.41-.59l7.78-7.78 2.81-2.81c.8-.78.8-2.07 0-2.86zM5.41 20L4 18.59l7.72-7.72 1.47 1.35L5.41 20z\"/>\n",
              "  </svg>\n",
              "      </button>\n",
              "      \n",
              "  <style>\n",
              "    .colab-df-container {\n",
              "      display:flex;\n",
              "      flex-wrap:wrap;\n",
              "      gap: 12px;\n",
              "    }\n",
              "\n",
              "    .colab-df-convert {\n",
              "      background-color: #E8F0FE;\n",
              "      border: none;\n",
              "      border-radius: 50%;\n",
              "      cursor: pointer;\n",
              "      display: none;\n",
              "      fill: #1967D2;\n",
              "      height: 32px;\n",
              "      padding: 0 0 0 0;\n",
              "      width: 32px;\n",
              "    }\n",
              "\n",
              "    .colab-df-convert:hover {\n",
              "      background-color: #E2EBFA;\n",
              "      box-shadow: 0px 1px 2px rgba(60, 64, 67, 0.3), 0px 1px 3px 1px rgba(60, 64, 67, 0.15);\n",
              "      fill: #174EA6;\n",
              "    }\n",
              "\n",
              "    [theme=dark] .colab-df-convert {\n",
              "      background-color: #3B4455;\n",
              "      fill: #D2E3FC;\n",
              "    }\n",
              "\n",
              "    [theme=dark] .colab-df-convert:hover {\n",
              "      background-color: #434B5C;\n",
              "      box-shadow: 0px 1px 3px 1px rgba(0, 0, 0, 0.15);\n",
              "      filter: drop-shadow(0px 1px 2px rgba(0, 0, 0, 0.3));\n",
              "      fill: #FFFFFF;\n",
              "    }\n",
              "  </style>\n",
              "\n",
              "      <script>\n",
              "        const buttonEl =\n",
              "          document.querySelector('#df-1f07328f-4def-479f-8ff9-d0b03710e831 button.colab-df-convert');\n",
              "        buttonEl.style.display =\n",
              "          google.colab.kernel.accessAllowed ? 'block' : 'none';\n",
              "\n",
              "        async function convertToInteractive(key) {\n",
              "          const element = document.querySelector('#df-1f07328f-4def-479f-8ff9-d0b03710e831');\n",
              "          const dataTable =\n",
              "            await google.colab.kernel.invokeFunction('convertToInteractive',\n",
              "                                                     [key], {});\n",
              "          if (!dataTable) return;\n",
              "\n",
              "          const docLinkHtml = 'Like what you see? Visit the ' +\n",
              "            '<a target=\"_blank\" href=https://colab.research.google.com/notebooks/data_table.ipynb>data table notebook</a>'\n",
              "            + ' to learn more about interactive tables.';\n",
              "          element.innerHTML = '';\n",
              "          dataTable['output_type'] = 'display_data';\n",
              "          await google.colab.output.renderOutput(dataTable, element);\n",
              "          const docLink = document.createElement('div');\n",
              "          docLink.innerHTML = docLinkHtml;\n",
              "          element.appendChild(docLink);\n",
              "        }\n",
              "      </script>\n",
              "    </div>\n",
              "  </div>\n",
              "  "
            ]
          },
          "metadata": {},
          "execution_count": 555
        }
      ]
    },
    {
      "cell_type": "code",
      "source": [
        "df.tail()"
      ],
      "metadata": {
        "id": "EArhHYw3upWm",
        "colab": {
          "base_uri": "https://localhost:8080/",
          "height": 424
        },
        "outputId": "16e42043-b721-495a-aad6-22d4cae2f106"
      },
      "execution_count": null,
      "outputs": [
        {
          "output_type": "execute_result",
          "data": {
            "text/plain": [
              "     Unnamed: 0         Email  \\\n",
              "495         495  xskz@gwj.com   \n",
              "496         496  awrc@iok.com   \n",
              "497         497  pndt@jyr.com   \n",
              "498         498  zvtz@onj.com   \n",
              "499         499  phqb@nlg.com   \n",
              "\n",
              "                                               Address          Credit Card  \\\n",
              "495            7083 Wallace Rest\\nNew Trevor, NM 70240       30206742023085   \n",
              "496  663 Christopher Garden\\nLake Carrieberg, PA 70796     6011536844623717   \n",
              "497            1555 Chen Road\\nBergerchester, NH 46418  4086276267550896697   \n",
              "498  5568 Robert Station Apt. 030\\nTurnerstad, GA 9...       36218092488069   \n",
              "499       424 Mark Junctions\\nDarrellchester, TX 09088     5427200269739116   \n",
              "\n",
              "     Avg. Session Length  Time on App  Time on Website  Length of Membership  \\\n",
              "495            34.237660    14.566160        37.417985              4.246573   \n",
              "496            35.702529    12.695736        38.190268              4.076526   \n",
              "497            33.646777    12.499409        39.332576              5.458264   \n",
              "498            34.322501    13.391423        37.840086              2.836485   \n",
              "499            34.715981    13.418808        36.771016              3.235160   \n",
              "\n",
              "     Yearly Amount Spent  \n",
              "495           574.847438  \n",
              "496           530.049004  \n",
              "497           552.620145  \n",
              "498           457.469510  \n",
              "499           498.778642  "
            ],
            "text/html": [
              "\n",
              "  <div id=\"df-88244e4c-4ef9-4f32-b07e-544b5f35a93d\">\n",
              "    <div class=\"colab-df-container\">\n",
              "      <div>\n",
              "<style scoped>\n",
              "    .dataframe tbody tr th:only-of-type {\n",
              "        vertical-align: middle;\n",
              "    }\n",
              "\n",
              "    .dataframe tbody tr th {\n",
              "        vertical-align: top;\n",
              "    }\n",
              "\n",
              "    .dataframe thead th {\n",
              "        text-align: right;\n",
              "    }\n",
              "</style>\n",
              "<table border=\"1\" class=\"dataframe\">\n",
              "  <thead>\n",
              "    <tr style=\"text-align: right;\">\n",
              "      <th></th>\n",
              "      <th>Unnamed: 0</th>\n",
              "      <th>Email</th>\n",
              "      <th>Address</th>\n",
              "      <th>Credit Card</th>\n",
              "      <th>Avg. Session Length</th>\n",
              "      <th>Time on App</th>\n",
              "      <th>Time on Website</th>\n",
              "      <th>Length of Membership</th>\n",
              "      <th>Yearly Amount Spent</th>\n",
              "    </tr>\n",
              "  </thead>\n",
              "  <tbody>\n",
              "    <tr>\n",
              "      <th>495</th>\n",
              "      <td>495</td>\n",
              "      <td>xskz@gwj.com</td>\n",
              "      <td>7083 Wallace Rest\\nNew Trevor, NM 70240</td>\n",
              "      <td>30206742023085</td>\n",
              "      <td>34.237660</td>\n",
              "      <td>14.566160</td>\n",
              "      <td>37.417985</td>\n",
              "      <td>4.246573</td>\n",
              "      <td>574.847438</td>\n",
              "    </tr>\n",
              "    <tr>\n",
              "      <th>496</th>\n",
              "      <td>496</td>\n",
              "      <td>awrc@iok.com</td>\n",
              "      <td>663 Christopher Garden\\nLake Carrieberg, PA 70796</td>\n",
              "      <td>6011536844623717</td>\n",
              "      <td>35.702529</td>\n",
              "      <td>12.695736</td>\n",
              "      <td>38.190268</td>\n",
              "      <td>4.076526</td>\n",
              "      <td>530.049004</td>\n",
              "    </tr>\n",
              "    <tr>\n",
              "      <th>497</th>\n",
              "      <td>497</td>\n",
              "      <td>pndt@jyr.com</td>\n",
              "      <td>1555 Chen Road\\nBergerchester, NH 46418</td>\n",
              "      <td>4086276267550896697</td>\n",
              "      <td>33.646777</td>\n",
              "      <td>12.499409</td>\n",
              "      <td>39.332576</td>\n",
              "      <td>5.458264</td>\n",
              "      <td>552.620145</td>\n",
              "    </tr>\n",
              "    <tr>\n",
              "      <th>498</th>\n",
              "      <td>498</td>\n",
              "      <td>zvtz@onj.com</td>\n",
              "      <td>5568 Robert Station Apt. 030\\nTurnerstad, GA 9...</td>\n",
              "      <td>36218092488069</td>\n",
              "      <td>34.322501</td>\n",
              "      <td>13.391423</td>\n",
              "      <td>37.840086</td>\n",
              "      <td>2.836485</td>\n",
              "      <td>457.469510</td>\n",
              "    </tr>\n",
              "    <tr>\n",
              "      <th>499</th>\n",
              "      <td>499</td>\n",
              "      <td>phqb@nlg.com</td>\n",
              "      <td>424 Mark Junctions\\nDarrellchester, TX 09088</td>\n",
              "      <td>5427200269739116</td>\n",
              "      <td>34.715981</td>\n",
              "      <td>13.418808</td>\n",
              "      <td>36.771016</td>\n",
              "      <td>3.235160</td>\n",
              "      <td>498.778642</td>\n",
              "    </tr>\n",
              "  </tbody>\n",
              "</table>\n",
              "</div>\n",
              "      <button class=\"colab-df-convert\" onclick=\"convertToInteractive('df-88244e4c-4ef9-4f32-b07e-544b5f35a93d')\"\n",
              "              title=\"Convert this dataframe to an interactive table.\"\n",
              "              style=\"display:none;\">\n",
              "        \n",
              "  <svg xmlns=\"http://www.w3.org/2000/svg\" height=\"24px\"viewBox=\"0 0 24 24\"\n",
              "       width=\"24px\">\n",
              "    <path d=\"M0 0h24v24H0V0z\" fill=\"none\"/>\n",
              "    <path d=\"M18.56 5.44l.94 2.06.94-2.06 2.06-.94-2.06-.94-.94-2.06-.94 2.06-2.06.94zm-11 1L8.5 8.5l.94-2.06 2.06-.94-2.06-.94L8.5 2.5l-.94 2.06-2.06.94zm10 10l.94 2.06.94-2.06 2.06-.94-2.06-.94-.94-2.06-.94 2.06-2.06.94z\"/><path d=\"M17.41 7.96l-1.37-1.37c-.4-.4-.92-.59-1.43-.59-.52 0-1.04.2-1.43.59L10.3 9.45l-7.72 7.72c-.78.78-.78 2.05 0 2.83L4 21.41c.39.39.9.59 1.41.59.51 0 1.02-.2 1.41-.59l7.78-7.78 2.81-2.81c.8-.78.8-2.07 0-2.86zM5.41 20L4 18.59l7.72-7.72 1.47 1.35L5.41 20z\"/>\n",
              "  </svg>\n",
              "      </button>\n",
              "      \n",
              "  <style>\n",
              "    .colab-df-container {\n",
              "      display:flex;\n",
              "      flex-wrap:wrap;\n",
              "      gap: 12px;\n",
              "    }\n",
              "\n",
              "    .colab-df-convert {\n",
              "      background-color: #E8F0FE;\n",
              "      border: none;\n",
              "      border-radius: 50%;\n",
              "      cursor: pointer;\n",
              "      display: none;\n",
              "      fill: #1967D2;\n",
              "      height: 32px;\n",
              "      padding: 0 0 0 0;\n",
              "      width: 32px;\n",
              "    }\n",
              "\n",
              "    .colab-df-convert:hover {\n",
              "      background-color: #E2EBFA;\n",
              "      box-shadow: 0px 1px 2px rgba(60, 64, 67, 0.3), 0px 1px 3px 1px rgba(60, 64, 67, 0.15);\n",
              "      fill: #174EA6;\n",
              "    }\n",
              "\n",
              "    [theme=dark] .colab-df-convert {\n",
              "      background-color: #3B4455;\n",
              "      fill: #D2E3FC;\n",
              "    }\n",
              "\n",
              "    [theme=dark] .colab-df-convert:hover {\n",
              "      background-color: #434B5C;\n",
              "      box-shadow: 0px 1px 3px 1px rgba(0, 0, 0, 0.15);\n",
              "      filter: drop-shadow(0px 1px 2px rgba(0, 0, 0, 0.3));\n",
              "      fill: #FFFFFF;\n",
              "    }\n",
              "  </style>\n",
              "\n",
              "      <script>\n",
              "        const buttonEl =\n",
              "          document.querySelector('#df-88244e4c-4ef9-4f32-b07e-544b5f35a93d button.colab-df-convert');\n",
              "        buttonEl.style.display =\n",
              "          google.colab.kernel.accessAllowed ? 'block' : 'none';\n",
              "\n",
              "        async function convertToInteractive(key) {\n",
              "          const element = document.querySelector('#df-88244e4c-4ef9-4f32-b07e-544b5f35a93d');\n",
              "          const dataTable =\n",
              "            await google.colab.kernel.invokeFunction('convertToInteractive',\n",
              "                                                     [key], {});\n",
              "          if (!dataTable) return;\n",
              "\n",
              "          const docLinkHtml = 'Like what you see? Visit the ' +\n",
              "            '<a target=\"_blank\" href=https://colab.research.google.com/notebooks/data_table.ipynb>data table notebook</a>'\n",
              "            + ' to learn more about interactive tables.';\n",
              "          element.innerHTML = '';\n",
              "          dataTable['output_type'] = 'display_data';\n",
              "          await google.colab.output.renderOutput(dataTable, element);\n",
              "          const docLink = document.createElement('div');\n",
              "          docLink.innerHTML = docLinkHtml;\n",
              "          element.appendChild(docLink);\n",
              "        }\n",
              "      </script>\n",
              "    </div>\n",
              "  </div>\n",
              "  "
            ]
          },
          "metadata": {},
          "execution_count": 556
        }
      ]
    },
    {
      "cell_type": "code",
      "source": [
        "df.describe()"
      ],
      "metadata": {
        "id": "aogYyi1V1k98",
        "colab": {
          "base_uri": "https://localhost:8080/",
          "height": 300
        },
        "outputId": "6d823e82-2765-4493-a93f-48e084f2dbcf"
      },
      "execution_count": null,
      "outputs": [
        {
          "output_type": "execute_result",
          "data": {
            "text/plain": [
              "       Unnamed: 0   Credit Card  Avg. Session Length  Time on App  \\\n",
              "count  500.000000  5.000000e+02           500.000000   500.000000   \n",
              "mean   249.500000  3.706324e+17            34.053194    13.052488   \n",
              "std    144.481833  1.235588e+18             0.992563     0.994216   \n",
              "min      0.000000  5.018057e+11            30.532429     9.508152   \n",
              "25%    124.750000  3.683275e+13            33.341822    12.388153   \n",
              "50%    249.500000  3.513612e+15            34.082008    12.983231   \n",
              "75%    374.250000  4.777131e+15            34.711985    13.753850   \n",
              "max    499.000000  4.959148e+18            37.139662    16.126994   \n",
              "\n",
              "       Time on Website  Length of Membership  Yearly Amount Spent  \n",
              "count       500.000000            500.000000           500.000000  \n",
              "mean         38.060445              4.033462           500.314038  \n",
              "std           1.010489              0.999278            79.314782  \n",
              "min          34.913847              0.769901           257.670582  \n",
              "25%          37.349257              3.430450           446.038277  \n",
              "50%          38.069367              4.033975           499.887875  \n",
              "75%          38.716432              4.626502           550.313828  \n",
              "max          41.005182              7.422689           766.518462  "
            ],
            "text/html": [
              "\n",
              "  <div id=\"df-6657325d-76ea-497b-b666-ec7b76c95f52\">\n",
              "    <div class=\"colab-df-container\">\n",
              "      <div>\n",
              "<style scoped>\n",
              "    .dataframe tbody tr th:only-of-type {\n",
              "        vertical-align: middle;\n",
              "    }\n",
              "\n",
              "    .dataframe tbody tr th {\n",
              "        vertical-align: top;\n",
              "    }\n",
              "\n",
              "    .dataframe thead th {\n",
              "        text-align: right;\n",
              "    }\n",
              "</style>\n",
              "<table border=\"1\" class=\"dataframe\">\n",
              "  <thead>\n",
              "    <tr style=\"text-align: right;\">\n",
              "      <th></th>\n",
              "      <th>Unnamed: 0</th>\n",
              "      <th>Credit Card</th>\n",
              "      <th>Avg. Session Length</th>\n",
              "      <th>Time on App</th>\n",
              "      <th>Time on Website</th>\n",
              "      <th>Length of Membership</th>\n",
              "      <th>Yearly Amount Spent</th>\n",
              "    </tr>\n",
              "  </thead>\n",
              "  <tbody>\n",
              "    <tr>\n",
              "      <th>count</th>\n",
              "      <td>500.000000</td>\n",
              "      <td>5.000000e+02</td>\n",
              "      <td>500.000000</td>\n",
              "      <td>500.000000</td>\n",
              "      <td>500.000000</td>\n",
              "      <td>500.000000</td>\n",
              "      <td>500.000000</td>\n",
              "    </tr>\n",
              "    <tr>\n",
              "      <th>mean</th>\n",
              "      <td>249.500000</td>\n",
              "      <td>3.706324e+17</td>\n",
              "      <td>34.053194</td>\n",
              "      <td>13.052488</td>\n",
              "      <td>38.060445</td>\n",
              "      <td>4.033462</td>\n",
              "      <td>500.314038</td>\n",
              "    </tr>\n",
              "    <tr>\n",
              "      <th>std</th>\n",
              "      <td>144.481833</td>\n",
              "      <td>1.235588e+18</td>\n",
              "      <td>0.992563</td>\n",
              "      <td>0.994216</td>\n",
              "      <td>1.010489</td>\n",
              "      <td>0.999278</td>\n",
              "      <td>79.314782</td>\n",
              "    </tr>\n",
              "    <tr>\n",
              "      <th>min</th>\n",
              "      <td>0.000000</td>\n",
              "      <td>5.018057e+11</td>\n",
              "      <td>30.532429</td>\n",
              "      <td>9.508152</td>\n",
              "      <td>34.913847</td>\n",
              "      <td>0.769901</td>\n",
              "      <td>257.670582</td>\n",
              "    </tr>\n",
              "    <tr>\n",
              "      <th>25%</th>\n",
              "      <td>124.750000</td>\n",
              "      <td>3.683275e+13</td>\n",
              "      <td>33.341822</td>\n",
              "      <td>12.388153</td>\n",
              "      <td>37.349257</td>\n",
              "      <td>3.430450</td>\n",
              "      <td>446.038277</td>\n",
              "    </tr>\n",
              "    <tr>\n",
              "      <th>50%</th>\n",
              "      <td>249.500000</td>\n",
              "      <td>3.513612e+15</td>\n",
              "      <td>34.082008</td>\n",
              "      <td>12.983231</td>\n",
              "      <td>38.069367</td>\n",
              "      <td>4.033975</td>\n",
              "      <td>499.887875</td>\n",
              "    </tr>\n",
              "    <tr>\n",
              "      <th>75%</th>\n",
              "      <td>374.250000</td>\n",
              "      <td>4.777131e+15</td>\n",
              "      <td>34.711985</td>\n",
              "      <td>13.753850</td>\n",
              "      <td>38.716432</td>\n",
              "      <td>4.626502</td>\n",
              "      <td>550.313828</td>\n",
              "    </tr>\n",
              "    <tr>\n",
              "      <th>max</th>\n",
              "      <td>499.000000</td>\n",
              "      <td>4.959148e+18</td>\n",
              "      <td>37.139662</td>\n",
              "      <td>16.126994</td>\n",
              "      <td>41.005182</td>\n",
              "      <td>7.422689</td>\n",
              "      <td>766.518462</td>\n",
              "    </tr>\n",
              "  </tbody>\n",
              "</table>\n",
              "</div>\n",
              "      <button class=\"colab-df-convert\" onclick=\"convertToInteractive('df-6657325d-76ea-497b-b666-ec7b76c95f52')\"\n",
              "              title=\"Convert this dataframe to an interactive table.\"\n",
              "              style=\"display:none;\">\n",
              "        \n",
              "  <svg xmlns=\"http://www.w3.org/2000/svg\" height=\"24px\"viewBox=\"0 0 24 24\"\n",
              "       width=\"24px\">\n",
              "    <path d=\"M0 0h24v24H0V0z\" fill=\"none\"/>\n",
              "    <path d=\"M18.56 5.44l.94 2.06.94-2.06 2.06-.94-2.06-.94-.94-2.06-.94 2.06-2.06.94zm-11 1L8.5 8.5l.94-2.06 2.06-.94-2.06-.94L8.5 2.5l-.94 2.06-2.06.94zm10 10l.94 2.06.94-2.06 2.06-.94-2.06-.94-.94-2.06-.94 2.06-2.06.94z\"/><path d=\"M17.41 7.96l-1.37-1.37c-.4-.4-.92-.59-1.43-.59-.52 0-1.04.2-1.43.59L10.3 9.45l-7.72 7.72c-.78.78-.78 2.05 0 2.83L4 21.41c.39.39.9.59 1.41.59.51 0 1.02-.2 1.41-.59l7.78-7.78 2.81-2.81c.8-.78.8-2.07 0-2.86zM5.41 20L4 18.59l7.72-7.72 1.47 1.35L5.41 20z\"/>\n",
              "  </svg>\n",
              "      </button>\n",
              "      \n",
              "  <style>\n",
              "    .colab-df-container {\n",
              "      display:flex;\n",
              "      flex-wrap:wrap;\n",
              "      gap: 12px;\n",
              "    }\n",
              "\n",
              "    .colab-df-convert {\n",
              "      background-color: #E8F0FE;\n",
              "      border: none;\n",
              "      border-radius: 50%;\n",
              "      cursor: pointer;\n",
              "      display: none;\n",
              "      fill: #1967D2;\n",
              "      height: 32px;\n",
              "      padding: 0 0 0 0;\n",
              "      width: 32px;\n",
              "    }\n",
              "\n",
              "    .colab-df-convert:hover {\n",
              "      background-color: #E2EBFA;\n",
              "      box-shadow: 0px 1px 2px rgba(60, 64, 67, 0.3), 0px 1px 3px 1px rgba(60, 64, 67, 0.15);\n",
              "      fill: #174EA6;\n",
              "    }\n",
              "\n",
              "    [theme=dark] .colab-df-convert {\n",
              "      background-color: #3B4455;\n",
              "      fill: #D2E3FC;\n",
              "    }\n",
              "\n",
              "    [theme=dark] .colab-df-convert:hover {\n",
              "      background-color: #434B5C;\n",
              "      box-shadow: 0px 1px 3px 1px rgba(0, 0, 0, 0.15);\n",
              "      filter: drop-shadow(0px 1px 2px rgba(0, 0, 0, 0.3));\n",
              "      fill: #FFFFFF;\n",
              "    }\n",
              "  </style>\n",
              "\n",
              "      <script>\n",
              "        const buttonEl =\n",
              "          document.querySelector('#df-6657325d-76ea-497b-b666-ec7b76c95f52 button.colab-df-convert');\n",
              "        buttonEl.style.display =\n",
              "          google.colab.kernel.accessAllowed ? 'block' : 'none';\n",
              "\n",
              "        async function convertToInteractive(key) {\n",
              "          const element = document.querySelector('#df-6657325d-76ea-497b-b666-ec7b76c95f52');\n",
              "          const dataTable =\n",
              "            await google.colab.kernel.invokeFunction('convertToInteractive',\n",
              "                                                     [key], {});\n",
              "          if (!dataTable) return;\n",
              "\n",
              "          const docLinkHtml = 'Like what you see? Visit the ' +\n",
              "            '<a target=\"_blank\" href=https://colab.research.google.com/notebooks/data_table.ipynb>data table notebook</a>'\n",
              "            + ' to learn more about interactive tables.';\n",
              "          element.innerHTML = '';\n",
              "          dataTable['output_type'] = 'display_data';\n",
              "          await google.colab.output.renderOutput(dataTable, element);\n",
              "          const docLink = document.createElement('div');\n",
              "          docLink.innerHTML = docLinkHtml;\n",
              "          element.appendChild(docLink);\n",
              "        }\n",
              "      </script>\n",
              "    </div>\n",
              "  </div>\n",
              "  "
            ]
          },
          "metadata": {},
          "execution_count": 557
        }
      ]
    },
    {
      "cell_type": "markdown",
      "source": [
        "Yearly amount spent show the data for amount spent online per person and session length is how much time is spent online per person"
      ],
      "metadata": {
        "id": "xTSJ3fxvXxLX"
      }
    },
    {
      "cell_type": "code",
      "source": [
        "##Missing Value Analysis #1 with .info which shows no missing values\n",
        "df.info()"
      ],
      "metadata": {
        "id": "P_wlHdrrmRfk",
        "colab": {
          "base_uri": "https://localhost:8080/"
        },
        "outputId": "baeb8672-5857-4c7d-b960-0a74ec444961"
      },
      "execution_count": null,
      "outputs": [
        {
          "output_type": "stream",
          "name": "stdout",
          "text": [
            "<class 'pandas.core.frame.DataFrame'>\n",
            "RangeIndex: 500 entries, 0 to 499\n",
            "Data columns (total 9 columns):\n",
            " #   Column                Non-Null Count  Dtype  \n",
            "---  ------                --------------  -----  \n",
            " 0   Unnamed: 0            500 non-null    int64  \n",
            " 1   Email                 500 non-null    object \n",
            " 2   Address               500 non-null    object \n",
            " 3   Credit Card           500 non-null    int64  \n",
            " 4   Avg. Session Length   500 non-null    float64\n",
            " 5   Time on App           500 non-null    float64\n",
            " 6   Time on Website       500 non-null    float64\n",
            " 7   Length of Membership  500 non-null    float64\n",
            " 8   Yearly Amount Spent   500 non-null    float64\n",
            "dtypes: float64(5), int64(2), object(2)\n",
            "memory usage: 35.3+ KB\n"
          ]
        }
      ]
    },
    {
      "cell_type": "code",
      "source": [
        "#Missing Value Analysis#2 with .isna.sum which also shows no missing values\n",
        "df.isna().sum()"
      ],
      "metadata": {
        "id": "Zi5tzDpHfmyw",
        "colab": {
          "base_uri": "https://localhost:8080/"
        },
        "outputId": "812b1371-c767-48c1-b7f9-4fba29ffb858"
      },
      "execution_count": null,
      "outputs": [
        {
          "output_type": "execute_result",
          "data": {
            "text/plain": [
              "Unnamed: 0              0\n",
              "Email                   0\n",
              "Address                 0\n",
              "Credit Card             0\n",
              "Avg. Session Length     0\n",
              "Time on App             0\n",
              "Time on Website         0\n",
              "Length of Membership    0\n",
              "Yearly Amount Spent     0\n",
              "dtype: int64"
            ]
          },
          "metadata": {},
          "execution_count": 559
        }
      ]
    },
    {
      "cell_type": "code",
      "source": [
        "plt.scatter(x = df['Time on Website'], y = df['Yearly Amount Spent'])"
      ],
      "metadata": {
        "id": "qKAc74i4gI5x",
        "colab": {
          "base_uri": "https://localhost:8080/",
          "height": 282
        },
        "outputId": "c0a2bbfc-b418-4eb6-9659-d37adc661d5b"
      },
      "execution_count": null,
      "outputs": [
        {
          "output_type": "execute_result",
          "data": {
            "text/plain": [
              "<matplotlib.collections.PathCollection at 0x7fb266556550>"
            ]
          },
          "metadata": {},
          "execution_count": 560
        },
        {
          "output_type": "display_data",
          "data": {
            "text/plain": [
              "<Figure size 432x288 with 1 Axes>"
            ],
            "image/png": "[encoded data removed]"
          },
          "metadata": {
            "needs_background": "light"
          }
        }
      ]
    },
    {
      "cell_type": "code",
      "source": [
        "plt.scatter(x = df['Yearly Amount Spent'], y = df['Time on App'])\n",
        "plt.show()"
      ],
      "metadata": {
        "colab": {
          "base_uri": "https://localhost:8080/",
          "height": 265
        },
        "id": "CDZQlvxsTTCw",
        "outputId": "cc728eff-d7b5-4775-e32f-06e2cceb3792"
      },
      "execution_count": null,
      "outputs": [
        {
          "output_type": "display_data",
          "data": {
            "text/plain": [
              "<Figure size 432x288 with 1 Axes>"
            ],
            "image/png": "[encoded data removed]"
          },
          "metadata": {
            "needs_background": "light"
          }
        }
      ]
    },
    {
      "cell_type": "code",
      "source": [
        "plt.scatter(x = df['Length of Membership'], y = df['Time on App'])\n",
        "plt.show()"
      ],
      "metadata": {
        "id": "FcYgZnwnTS_Y",
        "colab": {
          "base_uri": "https://localhost:8080/",
          "height": 265
        },
        "outputId": "293fd72c-cc1a-416b-cf7c-e76ed87b7b55"
      },
      "execution_count": null,
      "outputs": [
        {
          "output_type": "display_data",
          "data": {
            "text/plain": [
              "<Figure size 432x288 with 1 Axes>"
            ],
            "image/png": "[encoded data removed]"
          },
          "metadata": {
            "needs_background": "light"
          }
        }
      ]
    },
    {
      "cell_type": "code",
      "source": [
        "#sns.pairplot(df)"
      ],
      "metadata": {
        "id": "EaA3X45BXhKw"
      },
      "execution_count": null,
      "outputs": []
    },
    {
      "cell_type": "code",
      "source": [
        "##Heat map created which shows that most correlated attributes are length of membership, time on app, Avg. Session Length \n",
        "fig, ax = plt.subplots(figsize=(15,18))\n",
        "sns.heatmap(data = corr, ax = ax, annot = True)\n",
        "ax.set_title(\"Heatmap of Correlation Between Attributes (Including Target)\");"
      ],
      "metadata": {
        "colab": {
          "base_uri": "https://localhost:8080/",
          "height": 1000
        },
        "id": "GkeLVzniel8G",
        "outputId": "40fae161-aff7-4459-ba01-e9cf8a46ca62"
      },
      "execution_count": null,
      "outputs": [
        {
          "output_type": "display_data",
          "data": {
            "text/plain": [
              "<Figure size 1080x1296 with 2 Axes>"
            ],
            "image/png": "[encoded data removed]"
          },
          "metadata": {
            "needs_background": "light"
          }
        }
      ]
    },
    {
      "cell_type": "code",
      "source": [
        "plt.scatter(x = df['Length of Membership'], y = df['Yearly Amount Spent'])"
      ],
      "metadata": {
        "colab": {
          "base_uri": "https://localhost:8080/",
          "height": 282
        },
        "id": "t-PTd7ace2Fi",
        "outputId": "fc7a7afe-7494-4ca0-ce96-9a5d520b0c7e"
      },
      "execution_count": null,
      "outputs": [
        {
          "output_type": "execute_result",
          "data": {
            "text/plain": [
              "<matplotlib.collections.PathCollection at 0x7fb2663bd3d0>"
            ]
          },
          "metadata": {},
          "execution_count": 565
        },
        {
          "output_type": "display_data",
          "data": {
            "text/plain": [
              "<Figure size 432x288 with 1 Axes>"
            ],
            "image/png": "[encoded data removed]"
          },
          "metadata": {
            "needs_background": "light"
          }
        }
      ]
    },
    {
      "cell_type": "code",
      "source": [
        "df.columns"
      ],
      "metadata": {
        "colab": {
          "base_uri": "https://localhost:8080/"
        },
        "id": "b566knpPkBi_",
        "outputId": "4358a157-1b86-45d3-bb7b-38b8e9188df8"
      },
      "execution_count": null,
      "outputs": [
        {
          "output_type": "execute_result",
          "data": {
            "text/plain": [
              "Index(['Unnamed: 0', 'Email', 'Address', 'Credit Card', 'Avg. Session Length',\n",
              "       'Time on App', 'Time on Website', 'Length of Membership',\n",
              "       'Yearly Amount Spent'],\n",
              "      dtype='object')"
            ]
          },
          "metadata": {},
          "execution_count": 566
        }
      ]
    },
    {
      "cell_type": "code",
      "source": [
        "#Dropped Unecessary Columns such as Credit Card, Unamed, Email, and Address since they are not correlated very well with Yearly Amount Spent\n",
        "df.drop(['Credit Card', 'Unnamed: 0', 'Email', 'Address'], inplace = True, axis = 1)"
      ],
      "metadata": {
        "id": "v2pt7IXujrNI"
      },
      "execution_count": null,
      "outputs": []
    },
    {
      "cell_type": "code",
      "source": [
        "#Checking df to see if columns were correctly dropped\n",
        "df"
      ],
      "metadata": {
        "id": "nPQdV63Xke_N",
        "colab": {
          "base_uri": "https://localhost:8080/",
          "height": 424
        },
        "outputId": "fa01ec92-392f-42ea-f017-9b7982eca9bf"
      },
      "execution_count": null,
      "outputs": [
        {
          "output_type": "execute_result",
          "data": {
            "text/plain": [
              "     Avg. Session Length  Time on App  Time on Website  Length of Membership  \\\n",
              "0              35.497268    13.655651        40.577668              4.582621   \n",
              "1              32.926272    12.109461        38.268959              3.164034   \n",
              "2              34.000915    12.330278        38.110597              4.604543   \n",
              "3              35.305557    14.717514        37.721283              3.620179   \n",
              "4              34.330673    13.795189        38.536653              4.946308   \n",
              "..                   ...          ...              ...                   ...   \n",
              "495            34.237660    14.566160        37.417985              4.246573   \n",
              "496            35.702529    12.695736        38.190268              4.076526   \n",
              "497            33.646777    12.499409        39.332576              5.458264   \n",
              "498            34.322501    13.391423        37.840086              2.836485   \n",
              "499            34.715981    13.418808        36.771016              3.235160   \n",
              "\n",
              "     Yearly Amount Spent  \n",
              "0             588.951054  \n",
              "1             393.204933  \n",
              "2             488.547505  \n",
              "3             582.852344  \n",
              "4             600.406092  \n",
              "..                   ...  \n",
              "495           574.847438  \n",
              "496           530.049004  \n",
              "497           552.620145  \n",
              "498           457.469510  \n",
              "499           498.778642  \n",
              "\n",
              "[500 rows x 5 columns]"
            ],
            "text/html": [
              "\n",
              "  <div id=\"df-c4ccdef0-9339-48ea-af65-e6308cdd6061\">\n",
              "    <div class=\"colab-df-container\">\n",
              "      <div>\n",
              "<style scoped>\n",
              "    .dataframe tbody tr th:only-of-type {\n",
              "        vertical-align: middle;\n",
              "    }\n",
              "\n",
              "    .dataframe tbody tr th {\n",
              "        vertical-align: top;\n",
              "    }\n",
              "\n",
              "    .dataframe thead th {\n",
              "        text-align: right;\n",
              "    }\n",
              "</style>\n",
              "<table border=\"1\" class=\"dataframe\">\n",
              "  <thead>\n",
              "    <tr style=\"text-align: right;\">\n",
              "      <th></th>\n",
              "      <th>Avg. Session Length</th>\n",
              "      <th>Time on App</th>\n",
              "      <th>Time on Website</th>\n",
              "      <th>Length of Membership</th>\n",
              "      <th>Yearly Amount Spent</th>\n",
              "    </tr>\n",
              "  </thead>\n",
              "  <tbody>\n",
              "    <tr>\n",
              "      <th>0</th>\n",
              "      <td>35.497268</td>\n",
              "      <td>13.655651</td>\n",
              "      <td>40.577668</td>\n",
              "      <td>4.582621</td>\n",
              "      <td>588.951054</td>\n",
              "    </tr>\n",
              "    <tr>\n",
              "      <th>1</th>\n",
              "      <td>32.926272</td>\n",
              "      <td>12.109461</td>\n",
              "      <td>38.268959</td>\n",
              "      <td>3.164034</td>\n",
              "      <td>393.204933</td>\n",
              "    </tr>\n",
              "    <tr>\n",
              "      <th>2</th>\n",
              "      <td>34.000915</td>\n",
              "      <td>12.330278</td>\n",
              "      <td>38.110597</td>\n",
              "      <td>4.604543</td>\n",
              "      <td>488.547505</td>\n",
              "    </tr>\n",
              "    <tr>\n",
              "      <th>3</th>\n",
              "      <td>35.305557</td>\n",
              "      <td>14.717514</td>\n",
              "      <td>37.721283</td>\n",
              "      <td>3.620179</td>\n",
              "      <td>582.852344</td>\n",
              "    </tr>\n",
              "    <tr>\n",
              "      <th>4</th>\n",
              "      <td>34.330673</td>\n",
              "      <td>13.795189</td>\n",
              "      <td>38.536653</td>\n",
              "      <td>4.946308</td>\n",
              "      <td>600.406092</td>\n",
              "    </tr>\n",
              "    <tr>\n",
              "      <th>...</th>\n",
              "      <td>...</td>\n",
              "      <td>...</td>\n",
              "      <td>...</td>\n",
              "      <td>...</td>\n",
              "      <td>...</td>\n",
              "    </tr>\n",
              "    <tr>\n",
              "      <th>495</th>\n",
              "      <td>34.237660</td>\n",
              "      <td>14.566160</td>\n",
              "      <td>37.417985</td>\n",
              "      <td>4.246573</td>\n",
              "      <td>574.847438</td>\n",
              "    </tr>\n",
              "    <tr>\n",
              "      <th>496</th>\n",
              "      <td>35.702529</td>\n",
              "      <td>12.695736</td>\n",
              "      <td>38.190268</td>\n",
              "      <td>4.076526</td>\n",
              "      <td>530.049004</td>\n",
              "    </tr>\n",
              "    <tr>\n",
              "      <th>497</th>\n",
              "      <td>33.646777</td>\n",
              "      <td>12.499409</td>\n",
              "      <td>39.332576</td>\n",
              "      <td>5.458264</td>\n",
              "      <td>552.620145</td>\n",
              "    </tr>\n",
              "    <tr>\n",
              "      <th>498</th>\n",
              "      <td>34.322501</td>\n",
              "      <td>13.391423</td>\n",
              "      <td>37.840086</td>\n",
              "      <td>2.836485</td>\n",
              "      <td>457.469510</td>\n",
              "    </tr>\n",
              "    <tr>\n",
              "      <th>499</th>\n",
              "      <td>34.715981</td>\n",
              "      <td>13.418808</td>\n",
              "      <td>36.771016</td>\n",
              "      <td>3.235160</td>\n",
              "      <td>498.778642</td>\n",
              "    </tr>\n",
              "  </tbody>\n",
              "</table>\n",
              "<p>500 rows × 5 columns</p>\n",
              "</div>\n",
              "      <button class=\"colab-df-convert\" onclick=\"convertToInteractive('df-c4ccdef0-9339-48ea-af65-e6308cdd6061')\"\n",
              "              title=\"Convert this dataframe to an interactive table.\"\n",
              "              style=\"display:none;\">\n",
              "        \n",
              "  <svg xmlns=\"http://www.w3.org/2000/svg\" height=\"24px\"viewBox=\"0 0 24 24\"\n",
              "       width=\"24px\">\n",
              "    <path d=\"M0 0h24v24H0V0z\" fill=\"none\"/>\n",
              "    <path d=\"M18.56 5.44l.94 2.06.94-2.06 2.06-.94-2.06-.94-.94-2.06-.94 2.06-2.06.94zm-11 1L8.5 8.5l.94-2.06 2.06-.94-2.06-.94L8.5 2.5l-.94 2.06-2.06.94zm10 10l.94 2.06.94-2.06 2.06-.94-2.06-.94-.94-2.06-.94 2.06-2.06.94z\"/><path d=\"M17.41 7.96l-1.37-1.37c-.4-.4-.92-.59-1.43-.59-.52 0-1.04.2-1.43.59L10.3 9.45l-7.72 7.72c-.78.78-.78 2.05 0 2.83L4 21.41c.39.39.9.59 1.41.59.51 0 1.02-.2 1.41-.59l7.78-7.78 2.81-2.81c.8-.78.8-2.07 0-2.86zM5.41 20L4 18.59l7.72-7.72 1.47 1.35L5.41 20z\"/>\n",
              "  </svg>\n",
              "      </button>\n",
              "      \n",
              "  <style>\n",
              "    .colab-df-container {\n",
              "      display:flex;\n",
              "      flex-wrap:wrap;\n",
              "      gap: 12px;\n",
              "    }\n",
              "\n",
              "    .colab-df-convert {\n",
              "      background-color: #E8F0FE;\n",
              "      border: none;\n",
              "      border-radius: 50%;\n",
              "      cursor: pointer;\n",
              "      display: none;\n",
              "      fill: #1967D2;\n",
              "      height: 32px;\n",
              "      padding: 0 0 0 0;\n",
              "      width: 32px;\n",
              "    }\n",
              "\n",
              "    .colab-df-convert:hover {\n",
              "      background-color: #E2EBFA;\n",
              "      box-shadow: 0px 1px 2px rgba(60, 64, 67, 0.3), 0px 1px 3px 1px rgba(60, 64, 67, 0.15);\n",
              "      fill: #174EA6;\n",
              "    }\n",
              "\n",
              "    [theme=dark] .colab-df-convert {\n",
              "      background-color: #3B4455;\n",
              "      fill: #D2E3FC;\n",
              "    }\n",
              "\n",
              "    [theme=dark] .colab-df-convert:hover {\n",
              "      background-color: #434B5C;\n",
              "      box-shadow: 0px 1px 3px 1px rgba(0, 0, 0, 0.15);\n",
              "      filter: drop-shadow(0px 1px 2px rgba(0, 0, 0, 0.3));\n",
              "      fill: #FFFFFF;\n",
              "    }\n",
              "  </style>\n",
              "\n",
              "      <script>\n",
              "        const buttonEl =\n",
              "          document.querySelector('#df-c4ccdef0-9339-48ea-af65-e6308cdd6061 button.colab-df-convert');\n",
              "        buttonEl.style.display =\n",
              "          google.colab.kernel.accessAllowed ? 'block' : 'none';\n",
              "\n",
              "        async function convertToInteractive(key) {\n",
              "          const element = document.querySelector('#df-c4ccdef0-9339-48ea-af65-e6308cdd6061');\n",
              "          const dataTable =\n",
              "            await google.colab.kernel.invokeFunction('convertToInteractive',\n",
              "                                                     [key], {});\n",
              "          if (!dataTable) return;\n",
              "\n",
              "          const docLinkHtml = 'Like what you see? Visit the ' +\n",
              "            '<a target=\"_blank\" href=https://colab.research.google.com/notebooks/data_table.ipynb>data table notebook</a>'\n",
              "            + ' to learn more about interactive tables.';\n",
              "          element.innerHTML = '';\n",
              "          dataTable['output_type'] = 'display_data';\n",
              "          await google.colab.output.renderOutput(dataTable, element);\n",
              "          const docLink = document.createElement('div');\n",
              "          docLink.innerHTML = docLinkHtml;\n",
              "          element.appendChild(docLink);\n",
              "        }\n",
              "      </script>\n",
              "    </div>\n",
              "  </div>\n",
              "  "
            ]
          },
          "metadata": {},
          "execution_count": 568
        }
      ]
    },
    {
      "cell_type": "code",
      "source": [],
      "metadata": {
        "id": "ZkjxAjKfMFVP"
      },
      "execution_count": null,
      "outputs": []
    },
    {
      "cell_type": "code",
      "source": [
        "#Setting X as every other ffeature except for Yearly Amount Spent, and Y as Yearly Amount Spent since it is what our target variable is\n",
        "X = df.drop('Yearly Amount Spent', axis = 1)\n",
        "y = df['Yearly Amount Spent']"
      ],
      "metadata": {
        "id": "P-i0DnMEl4iW"
      },
      "execution_count": null,
      "outputs": []
    },
    {
      "cell_type": "code",
      "source": [
        "#Perform test_train_split on X and Y variables and get our training data and testing data for x and y\n",
        "X_train, X_test, y_train, y_test = train_test_split(X, y, test_size = 0.3, random_state=101)"
      ],
      "metadata": {
        "id": "j3nu7jVul4pP"
      },
      "execution_count": null,
      "outputs": []
    },
    {
      "cell_type": "code",
      "source": [
        "#Setting up standard scaler for X train and test data\n",
        "scaler = StandardScaler()\n",
        "X_train_scaled = scaler.fit_transform(X_train)\n",
        "X_test_scaled = scaler.transform(X_test)"
      ],
      "metadata": {
        "id": "wueQarsSl4uo"
      },
      "execution_count": null,
      "outputs": []
    },
    {
      "cell_type": "markdown",
      "source": [
        "## SKLearn Linear Regression"
      ],
      "metadata": {
        "id": "lQl6lTVZIiDc"
      }
    },
    {
      "cell_type": "code",
      "source": [
        "## Made function in order to dispaly MAE, MSE, RMS, and R^2\n",
        "def scores(preds, model):\n",
        "      ## Sklearn Metrics MAE, MSE, RMSE, R^2\n",
        "      print('Mean Absolute Error:', metrics.mean_absolute_error(y_test, preds))\n",
        "      print('Mean Squared Error:', metrics.mean_squared_error(y_test, preds))\n",
        "      print('Root Mean Squared Error:', np.sqrt(metrics.mean_squared_error(y_test, preds)))\n",
        "      print(\"R^2: \", model.score(X_test_scaled, y_test))"
      ],
      "metadata": {
        "id": "0uMKC3QewHLz"
      },
      "execution_count": null,
      "outputs": []
    },
    {
      "cell_type": "code",
      "source": [
        "#Set up linear Regessor\n",
        "linreg = LinearRegression()"
      ],
      "metadata": {
        "id": "1NpGTgYll4x_"
      },
      "execution_count": null,
      "outputs": []
    },
    {
      "cell_type": "code",
      "source": [
        "#Fit X training scaled and y training data\n",
        "linreg.fit(X_train_scaled, y_train)"
      ],
      "metadata": {
        "colab": {
          "base_uri": "https://localhost:8080/"
        },
        "id": "Q1DGU_vElebm",
        "outputId": "0b6d880c-c3fa-480c-8fdb-0607aeae27b8"
      },
      "execution_count": null,
      "outputs": [
        {
          "output_type": "execute_result",
          "data": {
            "text/plain": [
              "LinearRegression()"
            ]
          },
          "metadata": {},
          "execution_count": 574
        }
      ]
    },
    {
      "cell_type": "code",
      "source": [
        "#Show coefficients\n",
        "linreg.coef_"
      ],
      "metadata": {
        "colab": {
          "base_uri": "https://localhost:8080/"
        },
        "id": "YLBqaknWlouA",
        "outputId": "fc18bbe9-030b-4416-f9e8-d6ff0e839088"
      },
      "execution_count": null,
      "outputs": [
        {
          "output_type": "execute_result",
          "data": {
            "text/plain": [
              "array([26.04265125, 36.67425683,  0.18503853, 60.20236045])"
            ]
          },
          "metadata": {},
          "execution_count": 575
        }
      ]
    },
    {
      "cell_type": "code",
      "source": [
        "#Show Intercept\n",
        "linreg.intercept_"
      ],
      "metadata": {
        "colab": {
          "base_uri": "https://localhost:8080/"
        },
        "id": "igDuDkGjlo3w",
        "outputId": "115816e0-5f23-489d-f938-7711f3cd1830"
      },
      "execution_count": null,
      "outputs": [
        {
          "output_type": "execute_result",
          "data": {
            "text/plain": [
              "499.7231164913073"
            ]
          },
          "metadata": {},
          "execution_count": 576
        }
      ]
    },
    {
      "cell_type": "code",
      "source": [
        "#Get y predicted using linreg.predict on x scaled data\n",
        "y_pred = linreg.predict(X_test_scaled)"
      ],
      "metadata": {
        "id": "j9S-Tjn8lpAA"
      },
      "execution_count": null,
      "outputs": []
    },
    {
      "cell_type": "code",
      "source": [
        "#Generated Scatter plot with y_test on x axis and y_pred on y axis\n",
        "plt.scatter(x = y_test, y = y_pred)"
      ],
      "metadata": {
        "colab": {
          "base_uri": "https://localhost:8080/",
          "height": 282
        },
        "id": "vvXagOELlpIW",
        "outputId": "6c5292e0-b2da-43c4-ac2e-60496ffe5b3f"
      },
      "execution_count": null,
      "outputs": [
        {
          "output_type": "execute_result",
          "data": {
            "text/plain": [
              "<matplotlib.collections.PathCollection at 0x7fb2662e7ad0>"
            ]
          },
          "metadata": {},
          "execution_count": 578
        },
        {
          "output_type": "display_data",
          "data": {
            "text/plain": [
              "<Figure size 432x288 with 1 Axes>"
            ],
            "image/png": "[encoded data removed]"
          },
          "metadata": {
            "needs_background": "light"
          }
        }
      ]
    },
    {
      "cell_type": "code",
      "source": [
        " scores(y_pred, linreg)"
      ],
      "metadata": {
        "colab": {
          "base_uri": "https://localhost:8080/"
        },
        "id": "LlgbChtWcBJU",
        "outputId": "2255843c-b38d-4ec5-8ae3-7698d93b2d43"
      },
      "execution_count": null,
      "outputs": [
        {
          "output_type": "stream",
          "name": "stdout",
          "text": [
            "Mean Absolute Error: 7.228148653430841\n",
            "Mean Squared Error: 79.8130516509744\n",
            "Root Mean Squared Error: 8.933815066978632\n",
            "R^2:  0.9890046246741234\n"
          ]
        }
      ]
    },
    {
      "cell_type": "markdown",
      "source": [
        "## Normal Equation"
      ],
      "metadata": {
        "id": "mjO1MQIjIO4w"
      }
    },
    {
      "cell_type": "code",
      "source": [
        "thetaArray = df.to_numpy()\n",
        "thetaArray"
      ],
      "metadata": {
        "colab": {
          "base_uri": "https://localhost:8080/"
        },
        "id": "hICdpjTni_BL",
        "outputId": "f197795f-be0e-47bc-a885-01bd5ea3d674"
      },
      "execution_count": null,
      "outputs": [
        {
          "output_type": "execute_result",
          "data": {
            "text/plain": [
              "array([[ 35.49726773,  13.65565115,  40.57766802,   4.58262063,\n",
              "        588.95105397],\n",
              "       [ 32.92627203,  12.10946073,  38.26895887,   3.16403418,\n",
              "        393.20493344],\n",
              "       [ 34.00091476,  12.33027806,  38.11059744,   4.6045432 ,\n",
              "        488.54750487],\n",
              "       ...,\n",
              "       [ 33.64677668,  12.49940906,  39.33257633,   5.45826447,\n",
              "        552.62014548],\n",
              "       [ 34.32250105,  13.39142299,  37.84008573,   2.83648467,\n",
              "        457.46951007],\n",
              "       [ 34.71598092,  13.41880832,  36.77101619,   3.23515957,\n",
              "        498.77864222]])"
            ]
          },
          "metadata": {},
          "execution_count": 580
        }
      ]
    },
    {
      "cell_type": "code",
      "source": [
        "#Add x0 column using hp stack\n",
        "x_new= np.hstack((np.ones((len(X_train_scaled),1)), X_train_scaled))\n",
        "#Set up theta equation values\n",
        "theta_best_values=np.linalg.inv(x_new.T.dot(x_new)).dot(x_new.T).dot(y_train)\n",
        " #Print theta values from Normal Regression\n",
        "print(theta_best_values)"
      ],
      "metadata": {
        "id": "mvslgFUiU8pl",
        "colab": {
          "base_uri": "https://localhost:8080/"
        },
        "outputId": "e30d73f1-1ecd-4e02-a365-d67737565832"
      },
      "execution_count": null,
      "outputs": [
        {
          "output_type": "stream",
          "name": "stdout",
          "text": [
            "[4.99723116e+02 2.60426512e+01 3.66742568e+01 1.85038527e-01\n",
            " 6.02023604e+01]\n"
          ]
        }
      ]
    },
    {
      "cell_type": "code",
      "source": [
        "x_sample=np.array(X_test_scaled)\n",
        "x_sampleOnes = np.ones((len(x_sample),1))\n",
        "#Add x0=1 to each instance\n",
        "x_sample_new = np.hstack((x_sampleOnes, x_sample))\n",
        "predict_values = x_sample_new.dot(theta_best_values)\n",
        "#x_sampleOnes = np.ones((len()))\n",
        "predict_values"
      ],
      "metadata": {
        "colab": {
          "base_uri": "https://localhost:8080/"
        },
        "id": "AdPSmIXEZ6yB",
        "outputId": "1dd53082-202f-4ede-c7ff-73f345eddfa9"
      },
      "execution_count": null,
      "outputs": [
        {
          "output_type": "execute_result",
          "data": {
            "text/plain": [
              "array([457.44186104, 403.72005312, 410.2531539 , 592.4310343 ,\n",
              "       591.01437275, 549.82396607, 578.59737969, 716.44428115,\n",
              "       474.7893446 , 546.9211364 , 338.8580314 , 501.38506697,\n",
              "       553.93478041, 410.6038964 , 766.52590754, 546.83973731,\n",
              "       694.25969124, 508.32416226, 574.10533175, 574.2076631 ,\n",
              "       398.44989709, 556.0985107 , 459.19868141, 483.66899911,\n",
              "       560.2655959 , 414.00946082, 533.25727408, 378.65464817,\n",
              "       536.0209653 , 448.80070905, 596.54339577, 668.14347072,\n",
              "       512.96042791, 574.30433971, 506.02260887, 566.30254655,\n",
              "       461.38785393, 450.74727868, 423.87193429, 457.55615271,\n",
              "       599.10493696, 450.64517443, 616.34948995, 512.88078685,\n",
              "       505.37568058, 516.95249276, 569.64597718, 552.61444684,\n",
              "       357.5552241 , 465.9759817 , 482.66007708, 535.2220025 ,\n",
              "       257.28674001, 506.30810714, 521.01844434, 316.0298707 ,\n",
              "       502.98080155, 388.03842642, 473.97419543, 433.8704675 ,\n",
              "       540.79082198, 591.03070739, 753.86997652, 559.27858232,\n",
              "       524.71988382, 432.77690078, 426.38411902, 519.75571466,\n",
              "       642.9667215 , 482.84855126, 550.69830187, 381.93738919,\n",
              "       556.18178277, 404.43054276, 473.52458887, 502.82927633,\n",
              "       474.5561656 , 457.76720365, 555.74980563, 703.96835044,\n",
              "       535.68884588, 620.18843136, 501.11974127, 560.43899225,\n",
              "       575.8730604 , 506.09183544, 530.9537559 , 480.20749452,\n",
              "       425.78407899, 453.20986599, 526.74178343, 557.60674724,\n",
              "       426.7142882 , 589.8473985 , 491.77053065, 563.56866231,\n",
              "       496.75782933, 446.17937217, 457.64011682, 538.98437395,\n",
              "       368.06451757, 422.12767301, 552.59651363, 529.26019754,\n",
              "       494.47639211, 496.28105313, 520.81827269, 462.15666582,\n",
              "       529.8711677 , 443.89818166, 544.20201646, 351.07871481,\n",
              "       402.49148567, 607.87291134, 578.04816561, 525.50431281,\n",
              "       555.11225704, 508.93347015, 506.35674292, 372.65146821,\n",
              "       343.37232987, 635.43998975, 524.46931378, 533.7831345 ,\n",
              "       575.59948331, 436.57455636, 600.92586678, 488.24017405,\n",
              "       458.66383406, 426.25959495, 332.81731213, 444.70458331,\n",
              "       564.47279005, 467.14764208, 464.51837671, 382.29445432,\n",
              "       412.88795623, 474.48087683, 574.31745784, 418.55430913,\n",
              "       544.50149858, 548.81091537, 548.62977348, 451.99057409,\n",
              "       562.50896321, 479.30076589, 485.41029555, 458.59099941,\n",
              "       412.52657592, 376.47900638])"
            ]
          },
          "metadata": {},
          "execution_count": 582
        }
      ]
    },
    {
      "cell_type": "code",
      "source": [
        "plt.scatter(x = y_test, y = predict_values)"
      ],
      "metadata": {
        "colab": {
          "base_uri": "https://localhost:8080/",
          "height": 282
        },
        "id": "H6P1KW84EU5W",
        "outputId": "d47c7013-69b4-45a4-b223-403d152c43d4"
      },
      "execution_count": null,
      "outputs": [
        {
          "output_type": "execute_result",
          "data": {
            "text/plain": [
              "<matplotlib.collections.PathCollection at 0x7fb26629e090>"
            ]
          },
          "metadata": {},
          "execution_count": 583
        },
        {
          "output_type": "display_data",
          "data": {
            "text/plain": [
              "<Figure size 432x288 with 1 Axes>"
            ],
            "image/png": "[encoded data removed]"
          },
          "metadata": {
            "needs_background": "light"
          }
        }
      ]
    },
    {
      "cell_type": "code",
      "source": [
        "scores(predict_values, linreg)"
      ],
      "metadata": {
        "colab": {
          "base_uri": "https://localhost:8080/"
        },
        "id": "4ummYUYsEbtJ",
        "outputId": "54180885-b22f-4d40-d380-6b5a59c40684"
      },
      "execution_count": null,
      "outputs": [
        {
          "output_type": "stream",
          "name": "stdout",
          "text": [
            "Mean Absolute Error: 7.228148653430841\n",
            "Mean Squared Error: 79.81305165097476\n",
            "Root Mean Squared Error: 8.933815066978651\n",
            "R^2:  0.9890046246741234\n"
          ]
        }
      ]
    },
    {
      "cell_type": "markdown",
      "source": [
        "#### The limitation when using the normal equation for regression is that the number of features can be hundreds of thousands and therefore Gradient Descent would be much faster vs using the Normal Equation"
      ],
      "metadata": {
        "id": "tC4H3UpnE0Dt"
      }
    },
    {
      "cell_type": "markdown",
      "source": [
        "## Batch Gradient Descent"
      ],
      "metadata": {
        "id": "kJKjW1McIIVE"
      }
    },
    {
      "cell_type": "code",
      "source": [
        "#Set up data for Batch Gradient Descent used example from google colab and pdf\n",
        "cost_list = []\n",
        "epoch_list = []\n",
        "predicted_list = []\n",
        "eta = 0.01\n",
        "m = 500\n",
        "theta = np.random.randn(5,1)\n",
        "n_iterations = 10000\n",
        "y_trainArray = np.array(y_train)\n",
        "y_trainArray.reshape(350,1) \n",
        "y_ones = np.ones((len(y_trainArray), 1))\n",
        "for iteration in range(n_iterations):\n",
        "  gradients = 2/m * x_new.T.dot(x_new.dot(theta)-y_trainArray)\n",
        "  theta = theta - eta * gradients\n",
        "\n",
        "  y_predicted = np.dot(theta.T, x_new.T)\n",
        "  cost = np.mean(np.square(y_trainArray - y_predicted))\n",
        "  if iteration%10==0:\n",
        "    cost_list.append(cost)\n",
        "    epoch_list.append(iteration)\n",
        "\n",
        "print(theta)"
      ],
      "metadata": {
        "colab": {
          "base_uri": "https://localhost:8080/"
        },
        "id": "FcALVMIcIDPU",
        "outputId": "82723b05-cea0-4374-861a-d7c739762e0e"
      },
      "execution_count": null,
      "outputs": [
        {
          "output_type": "stream",
          "name": "stdout",
          "text": [
            "[[ 4.44965627e+02  5.57298141e+02  5.50131573e+02 ...  4.41002748e+02\n",
            "   5.23337405e+02  5.34396554e+02]\n",
            " [ 1.00082622e-14  2.00162181e-14  2.00176356e-14 ...  1.00086308e-14\n",
            "   2.00216878e-14  2.00199164e-14]\n",
            " [ 7.40880230e-15  1.48244644e-14  1.48151048e-14 ...  7.41484705e-15\n",
            "   1.48227426e-14  1.48276224e-14]\n",
            " [-1.06036609e-14 -2.12103991e-14 -2.12058921e-14 ... -1.06030118e-14\n",
            "  -2.12073693e-14 -2.12094994e-14]\n",
            " [-8.52837870e-15 -1.70650888e-14 -1.70642916e-14 ... -8.53131592e-15\n",
            "  -1.70561812e-14 -1.70647264e-14]]\n"
          ]
        }
      ]
    },
    {
      "cell_type": "markdown",
      "source": [
        "Only the intercept matched the theta values"
      ],
      "metadata": {
        "id": "rjtfj6DUs4BO"
      }
    },
    {
      "cell_type": "code",
      "source": [
        "#Used example grab in colab to help me plot my graph\n",
        "plt.xlabel('epoch')\n",
        "plt.ylabel('cost')\n",
        "plt.plot(epoch_list, cost_list)"
      ],
      "metadata": {
        "id": "5NjfoTglswK9",
        "colab": {
          "base_uri": "https://localhost:8080/",
          "height": 296
        },
        "outputId": "2e6faa06-7530-449a-fd07-0a50ad62af1b"
      },
      "execution_count": null,
      "outputs": [
        {
          "output_type": "execute_result",
          "data": {
            "text/plain": [
              "[<matplotlib.lines.Line2D at 0x7fb265fff810>]"
            ]
          },
          "metadata": {},
          "execution_count": 611
        },
        {
          "output_type": "display_data",
          "data": {
            "text/plain": [
              "<Figure size 432x288 with 1 Axes>"
            ],
            "image/png": "[encoded data removed]"
          },
          "metadata": {
            "needs_background": "light"
          }
        }
      ]
    },
    {
      "cell_type": "code",
      "source": [],
      "metadata": {
        "id": "UjoWR-L3IMrb"
      },
      "execution_count": null,
      "outputs": []
    },
    {
      "cell_type": "markdown",
      "source": [
        "## Vll. Derivatives help the process of gradient descent because after you mutiply the learning rate you solve for the first derivative you multiply by the learning rate and that's the size of the stepdown\n",
        "\n",
        "## Vlll. The limitations of batch gradient descent are that it is incredibly slow and the benefits are that it scales well with the number of features"
      ],
      "metadata": {
        "id": "9YsSUoLfOhsW"
      }
    },
    {
      "cell_type": "markdown",
      "source": [
        "## Stochastic Gradient Descent"
      ],
      "metadata": {
        "id": "3Yt9FPLsIzwY"
      }
    },
    {
      "cell_type": "code",
      "source": [
        "y_train"
      ],
      "metadata": {
        "colab": {
          "base_uri": "https://localhost:8080/"
        },
        "id": "H4H1bjSs1nMc",
        "outputId": "cda30279-f51a-494d-fa78-8c2590d46c75"
      },
      "execution_count": null,
      "outputs": [
        {
          "output_type": "execute_result",
          "data": {
            "text/plain": [
              "202    444.965627\n",
              "428    557.298141\n",
              "392    550.131573\n",
              "86     488.379306\n",
              "443    562.516532\n",
              "          ...    \n",
              "63     484.159721\n",
              "326    506.230068\n",
              "337    441.002748\n",
              "11     523.337405\n",
              "351    534.396554\n",
              "Name: Yearly Amount Spent, Length: 350, dtype: float64"
            ]
          },
          "metadata": {},
          "execution_count": 671
        }
      ]
    },
    {
      "cell_type": "code",
      "source": [
        "cost_list2 = []\n",
        "epoch_list2 = []\n",
        "predicted_list = []\n",
        "n_epochs = 50\n",
        "t0, t1 = 5, 50 \n",
        "y_trainArray = y_train.to_numpy()\n",
        "def learning_schedule(t):\n",
        "  return t0 / (t + t1)\n",
        "\n",
        "theta = np.random.randn(5,1)\n",
        "for epoch in range(n_epochs):\n",
        "  for i in range(m):\n",
        "    random_index = np.random.randint(m)\n",
        "    xi = x_new[random_index:random_index+1]\n",
        "    yi = y_trainArray[random_index:random_index+1]\n",
        "    gradients = 2 * xi.T.dot(xi.dot(theta) - yi)\n",
        "    eta = learning_schedule(epoch * m + i)\n",
        "    theta = theta - eta * gradients\n",
        "    y_predicted = np.dot(theta.T, x_new.T)\n",
        "    cost = np.mean(np.square(y_trainArray - y_predicted))\n",
        "    if iteration%10==0:\n",
        "      cost_list2.append(cost)\n",
        "      epoch_list2.append(iteration)\n",
        "theta_first = theta\n",
        "theta_first"
      ],
      "metadata": {
        "colab": {
          "base_uri": "https://localhost:8080/"
        },
        "id": "MiHlw0DPsOD-",
        "outputId": "92cfce4e-22ce-48c4-f463-2265faaf3646"
      },
      "execution_count": null,
      "outputs": [
        {
          "output_type": "execute_result",
          "data": {
            "text/plain": [
              "array([[499.71324265],\n",
              "       [ 26.06448682],\n",
              "       [ 36.75944334],\n",
              "       [  0.6008325 ],\n",
              "       [ 60.07297924]])"
            ]
          },
          "metadata": {},
          "execution_count": 675
        }
      ]
    },
    {
      "cell_type": "markdown",
      "source": [
        "They are close to the linear regression values"
      ],
      "metadata": {
        "id": "241orhki2OPF"
      }
    },
    {
      "cell_type": "code",
      "source": [
        "plt.plot(epoch_list2, cost_list2)"
      ],
      "metadata": {
        "id": "KRrYrjqzIM7N",
        "colab": {
          "base_uri": "https://localhost:8080/",
          "height": 282
        },
        "outputId": "4c1c1d90-1db1-4429-94c8-e8b7776eaadc"
      },
      "execution_count": null,
      "outputs": [
        {
          "output_type": "execute_result",
          "data": {
            "text/plain": [
              "[<matplotlib.lines.Line2D at 0x7fb266cdd050>]"
            ]
          },
          "metadata": {},
          "execution_count": 676
        },
        {
          "output_type": "display_data",
          "data": {
            "text/plain": [
              "<Figure size 432x288 with 1 Axes>"
            ],
            "image/png": "[encoded data removed]"
          },
          "metadata": {
            "needs_background": "light"
          }
        }
      ]
    },
    {
      "cell_type": "code",
      "source": [],
      "metadata": {
        "id": "jrr9AH78IM9V"
      },
      "execution_count": null,
      "outputs": []
    },
    {
      "cell_type": "code",
      "source": [],
      "metadata": {
        "id": "7m5sPWvSIM_d"
      },
      "execution_count": null,
      "outputs": []
    },
    {
      "cell_type": "code",
      "source": [],
      "metadata": {
        "id": "w77okbuTIM4f"
      },
      "execution_count": null,
      "outputs": []
    },
    {
      "cell_type": "markdown",
      "source": [
        "## SGDRegressor from sklearn"
      ],
      "metadata": {
        "id": "RvVhxfRfI2cI"
      }
    },
    {
      "cell_type": "code",
      "source": [
        "#Set up SGDRegressor\n",
        "regressor = SGDRegressor()\n",
        "regressor.fit(X_train_scaled, y_train)"
      ],
      "metadata": {
        "id": "0lGGRxX-UkuU",
        "colab": {
          "base_uri": "https://localhost:8080/"
        },
        "outputId": "b9c6ddbe-a093-4693-fd34-34fb7fec9e55"
      },
      "execution_count": null,
      "outputs": [
        {
          "output_type": "execute_result",
          "data": {
            "text/plain": [
              "SGDRegressor()"
            ]
          },
          "metadata": {},
          "execution_count": 587
        }
      ]
    },
    {
      "cell_type": "code",
      "source": [
        "#Get coefficents\n",
        "regressor.coef_"
      ],
      "metadata": {
        "colab": {
          "base_uri": "https://localhost:8080/"
        },
        "id": "BSvvptElUko1",
        "outputId": "16c43ffe-07af-4910-de2e-10249fd97c7b"
      },
      "execution_count": null,
      "outputs": [
        {
          "output_type": "execute_result",
          "data": {
            "text/plain": [
              "array([26.03671294, 36.64612224,  0.1648498 , 60.21581943])"
            ]
          },
          "metadata": {},
          "execution_count": 588
        }
      ]
    },
    {
      "cell_type": "code",
      "source": [
        "#Get interce[t]\n",
        "regressor.intercept_"
      ],
      "metadata": {
        "colab": {
          "base_uri": "https://localhost:8080/"
        },
        "id": "0DPD9xYaUkhn",
        "outputId": "7455904e-a276-4157-94e6-5d2fa3d47bfd"
      },
      "execution_count": null,
      "outputs": [
        {
          "output_type": "execute_result",
          "data": {
            "text/plain": [
              "array([499.71283305])"
            ]
          },
          "metadata": {},
          "execution_count": 589
        }
      ]
    },
    {
      "cell_type": "code",
      "source": [
        "#Get y predicted using SDGRegressor and X testing scaled data\n",
        "y_predReg = regressor.predict(X_test_scaled)\n",
        "plt.scatter(x = y_test, y = y_predReg)"
      ],
      "metadata": {
        "colab": {
          "base_uri": "https://localhost:8080/",
          "height": 282
        },
        "id": "lf5dx-5ZV59n",
        "outputId": "14c4a16c-5d8c-4e57-e8cf-84e6d45bdaad"
      },
      "execution_count": null,
      "outputs": [
        {
          "output_type": "execute_result",
          "data": {
            "text/plain": [
              "<matplotlib.collections.PathCollection at 0x7fb2661ff650>"
            ]
          },
          "metadata": {},
          "execution_count": 590
        },
        {
          "output_type": "display_data",
          "data": {
            "text/plain": [
              "<Figure size 432x288 with 1 Axes>"
            ],
            "image/png": "[encoded data removed]"
          },
          "metadata": {
            "needs_background": "light"
          }
        }
      ]
    },
    {
      "cell_type": "markdown",
      "source": [
        "## Mini-batch Gradient Descent\n"
      ],
      "metadata": {
        "id": "q2DQA53OI5-G"
      }
    },
    {
      "cell_type": "markdown",
      "source": [
        "Mini-Batch gradient descent computes gradients on small random instance sets also known as mini-batches this overcomes the limitations using Gradient Descent because it requires less time as well as space since it splits the larger data sets. It can pass the limitations of SGD because the performance boost is better with a good gpu and therefore, it ends up etting closer to the minimum vs "
      ],
      "metadata": {
        "id": "Tw9ItpO2OoM4"
      }
    },
    {
      "cell_type": "code",
      "source": [
        "y_train"
      ],
      "metadata": {
        "colab": {
          "base_uri": "https://localhost:8080/"
        },
        "id": "On6IsJwhfvtE",
        "outputId": "9a8f9f01-2e2b-47fb-ddb7-544b507c7b69"
      },
      "execution_count": null,
      "outputs": [
        {
          "output_type": "execute_result",
          "data": {
            "text/plain": [
              "202    444.965627\n",
              "428    557.298141\n",
              "392    550.131573\n",
              "86     488.379306\n",
              "443    562.516532\n",
              "          ...    \n",
              "63     484.159721\n",
              "326    506.230068\n",
              "337    441.002748\n",
              "11     523.337405\n",
              "351    534.396554\n",
              "Name: Yearly Amount Spent, Length: 350, dtype: float64"
            ]
          },
          "metadata": {},
          "execution_count": 591
        }
      ]
    },
    {
      "cell_type": "code",
      "source": [
        "y_test"
      ],
      "metadata": {
        "colab": {
          "base_uri": "https://localhost:8080/"
        },
        "id": "K5P68s1Bfx_J",
        "outputId": "e96ed9d1-7a9b-4250-a0b9-7f6422e7573c"
      },
      "execution_count": null,
      "outputs": [
        {
          "output_type": "execute_result",
          "data": {
            "text/plain": [
              "18     453.315675\n",
              "361    402.033135\n",
              "104    411.069611\n",
              "4      600.406092\n",
              "156    587.155870\n",
              "          ...    \n",
              "147    480.731938\n",
              "346    489.387526\n",
              "423    462.112248\n",
              "17     408.704548\n",
              "259    376.398455\n",
              "Name: Yearly Amount Spent, Length: 150, dtype: float64"
            ]
          },
          "metadata": {},
          "execution_count": 592
        }
      ]
    },
    {
      "cell_type": "markdown",
      "source": [
        "##  Polynomial 2"
      ],
      "metadata": {
        "id": "DnrIhC44lUbm"
      }
    },
    {
      "cell_type": "code",
      "source": [
        "X_test_scaled"
      ],
      "metadata": {
        "colab": {
          "base_uri": "https://localhost:8080/"
        },
        "id": "Hpc81DRSX-fO",
        "outputId": "d1c64ccf-f958-4958-861f-87299d924ccb"
      },
      "execution_count": null,
      "outputs": [
        {
          "output_type": "execute_result",
          "data": {
            "text/plain": [
              "array([[-0.83943476,  2.82084975,  1.19655468, -2.06128339],\n",
              "       [-0.94939816, -1.77482422,  2.02082872, -0.10899556],\n",
              "       [-1.63578852, -1.0947114 ,  1.02197172, -0.11479732],\n",
              "       [ 0.30074432,  0.80033753,  0.46857459,  0.92084844],\n",
              "       [-0.73285591,  0.42980067,  0.25371326,  1.57082213],\n",
              "       [ 0.27447021,  0.69245428,  0.25962239,  0.29084626],\n",
              "       [-0.85171669,  1.42358365, -1.42734191,  0.81575647],\n",
              "       [ 1.93384109,  1.9833783 ,  0.89598133,  1.55233281],\n",
              "       [ 1.56112887, -1.14413025, -1.23201709, -0.38871581],\n",
              "       [-0.64666556,  0.41936311,  0.56144575,  0.80653293],\n",
              "       [-0.78103416, -0.76711981,  0.05334439, -1.86705647],\n",
              "       [ 0.67008874,  1.51206193, -0.0099224 , -1.1833564 ],\n",
              "       [-0.56667582,  1.32220121,  1.59736289,  0.33525403],\n",
              "       [ 0.31454802, -1.12040822, -1.13880613, -0.93036257],\n",
              "       [ 1.34188137,  3.25395926,  0.07855224,  1.86879001],\n",
              "       [-0.46090653,  0.47816727, -0.73039292,  0.69297233],\n",
              "       [ 1.35341649,  0.73144832, -0.87380514,  2.20300972],\n",
              "       [-0.33519311,  0.59574173,  0.29720942, -0.07596076],\n",
              "       [ 0.5014599 ,  1.71639886, -0.18631667, -0.02641602],\n",
              "       [-0.76744285,  2.20792555, -0.05948328,  0.22437278],\n",
              "       [-3.48858776, -1.12935698,  0.34875977,  0.51381123],\n",
              "       [ 1.04995605,  0.07361132, -1.051271  ,  0.44062458],\n",
              "       [ 1.36190289,  0.81355713,  1.51237198, -1.76252968],\n",
              "       [-0.5733201 , -0.22265675, -0.13908025,  0.11740676],\n",
              "       [-0.34217115,  0.63553929, -1.01260625,  0.76962037],\n",
              "       [ 0.55684292, -2.18928297,  0.27212305, -0.33180342],\n",
              "       [ 0.09052062,  0.96666947, -0.04836969, -0.07086389],\n",
              "       [-0.53254975,  0.98251945,  1.25005851, -2.3830285 ],\n",
              "       [-0.25600894,  1.30659644, -0.49444527, -0.08076031],\n",
              "       [-0.89325782, -0.44397727,  2.23038342, -0.19583577],\n",
              "       [-0.41039972,  2.05713846,  0.11238557,  0.53226079],\n",
              "       [ 2.00534611,  2.516861  ,  0.30139261,  0.39593214],\n",
              "       [ 1.16509877,  1.05116826, -0.00462102, -0.9244639 ],\n",
              "       [ 1.56288029, -0.73877628, -1.66844995,  1.0179414 ],\n",
              "       [ 0.04637304,  0.30016159,  0.75926992, -0.10060872],\n",
              "       [ 0.76410703, -0.43519555,  1.37699448,  1.03626723],\n",
              "       [ 0.43082219, -1.22630477, -1.50115496, -0.07148269],\n",
              "       [-0.38636594, -0.46891769, -0.78116281, -0.35832634],\n",
              "       [ 0.42938858,  0.66270648, -0.73516396, -1.8471341 ],\n",
              "       [-1.07866678,  1.10566457,  0.53957531, -0.90901568],\n",
              "       [ 0.59197874, -0.91253377, -1.49688984,  1.95521577],\n",
              "       [-1.05940854, -0.5818878 ,  2.222317  , -0.00928612],\n",
              "       [ 0.05594549,  1.11427231,  1.27016276,  1.23033825],\n",
              "       [-0.42264335,  0.03601859, -1.00460105,  0.38253248],\n",
              "       [ 1.69587101, -0.07122371, -0.54916848, -0.59463979],\n",
              "       [-0.52958242,  1.44806622, -1.12243382, -0.36340689],\n",
              "       [ 1.17946657, -1.33038709, -2.50200729,  1.46938341],\n",
              "       [-0.05390127,  1.43090691,  0.74673929,  0.02789657],\n",
              "       [-0.71463057, -2.32564629, -1.37732808, -0.63138404],\n",
              "       [-1.17520404,  0.40445649, -1.13564339, -0.29508326],\n",
              "       [-0.02830473, -0.84583599, -0.08848993,  0.24435705],\n",
              "       [ 0.6696048 , -0.11594728,  0.16849575,  0.37011346],\n",
              "       [-0.19182904, -1.8709232 , -0.96456463, -2.80134265],\n",
              "       [-0.02823976, -0.74110144,  0.03016165,  0.57297076],\n",
              "       [ 0.67430608, -1.96917092,  0.70152839,  1.25946357],\n",
              "       [ 0.63589929, -1.1036135 , -0.74992036, -2.65173623],\n",
              "       [-0.73881653, -0.01522974,  2.05092142,  0.37668733],\n",
              "       [-0.28340396, -2.12763389,  1.31061485, -0.44046815],\n",
              "       [-0.82647864,  0.25505902,  1.18471253, -0.2292027 ],\n",
              "       [ 0.37980845, -0.0080428 , -0.97486924, -1.25025855],\n",
              "       [-0.48462206,  1.36607571,  0.90871746,  0.0568182 ],\n",
              "       [ 0.97569647,  0.48375437, -1.06586902,  0.80318716],\n",
              "       [ 1.57039704,  0.18173547, -3.25930525,  3.44152023],\n",
              "       [-1.45166898,  0.95435108, -0.36633458,  1.03697668],\n",
              "       [-0.75285659,  0.9682993 ,  0.02832893,  0.15092846],\n",
              "       [-1.0717965 , -1.12742783,  0.25313151,  0.03765542],\n",
              "       [ 0.42924645, -0.67971942,  0.85186336, -0.99243843],\n",
              "       [ 1.30258029, -0.97345912,  1.54820648,  0.35753359],\n",
              "       [-0.09765483,  0.73407058, -1.52340394,  1.97911162],\n",
              "       [ 0.51731044, -1.36709557,  0.38802567,  0.32754054],\n",
              "       [ 1.50390148,  0.75497338, -0.37779664, -0.26259065],\n",
              "       [ 0.27869527, -0.36081303,  0.41121657, -1.85851903],\n",
              "       [-0.38154696, -0.56313485,  1.28758211,  1.44196108],\n",
              "       [ 0.70177707,  0.1096521 , -0.23399895, -1.95252842],\n",
              "       [ 0.26713277,  0.48031965,  1.19123088, -0.84699608],\n",
              "       [-0.57833927,  1.49748552,  0.16208836, -0.61096464],\n",
              "       [ 0.08779134, -0.17936433, -0.51301805, -0.34517398],\n",
              "       [ 0.76373891, -1.10672629, -2.33651123, -0.3459165 ],\n",
              "       [ 0.98109127,  0.92595569, -1.06510334, -0.05456896],\n",
              "       [ 1.47486159,  0.90396323,  0.57055148,  2.2022089 ],\n",
              "       [ 0.10718225,  1.95372512,  2.20147773, -0.6458942 ],\n",
              "       [-0.83475898,  1.35826061, -0.1893277 ,  1.5352635 ],\n",
              "       [-0.73573458,  0.16403235, -0.95576291,  0.24447866],\n",
              "       [ 0.956303  ,  1.42226116,  0.4663561 , -0.27300349],\n",
              "       [ 0.887536  ,  0.41474209,  0.23057492,  0.62760214],\n",
              "       [-0.62601688,  0.05758269,  1.26425621,  0.33762995],\n",
              "       [-0.39242007,  0.15150942, -1.44783858,  0.60066929],\n",
              "       [-0.27919616, -2.18825076,  0.31593383,  1.12868326],\n",
              "       [-0.54368186, -1.15886826, -0.55131915, -0.2853289 ],\n",
              "       [-1.0183216 ,  0.06450634, -0.72418883, -0.36917449],\n",
              "       [ 0.61351325,  1.1842282 , -0.6930734 , -0.53588079],\n",
              "       [-0.97267162,  1.173337  ,  0.58562054,  0.66567081],\n",
              "       [-0.16353513,  0.04234686, -1.55597214, -1.16299534],\n",
              "       [ 1.00258479,  1.63931469, -0.24966622,  0.06544371],\n",
              "       [ 0.26274846, -0.13476888,  1.38048976, -0.16790285],\n",
              "       [ 1.60966334, -0.17688647,  0.65494488,  0.46994228],\n",
              "       [ 0.21758956, -0.08224235, -0.58029599, -0.09149711],\n",
              "       [-0.8481264 , -0.89129743,  3.0086987 ,  0.01120656],\n",
              "       [-0.30119341,  1.02992293, -0.44247971, -1.19478549],\n",
              "       [ 0.27456465,  0.36187044,  1.73182434,  0.30761389],\n",
              "       [ 0.47337101,  0.38391053, -2.12847289, -2.61903715],\n",
              "       [-0.64146054, -1.43097654,  0.95213404, -0.14262382],\n",
              "       [-1.1169673 , -0.72322854, -0.77960742,  1.80441951],\n",
              "       [-0.67615265,  1.12650066, -1.5501363 ,  0.10164301],\n",
              "       [ 0.45164749, -0.12197095,  0.24327598, -0.2089726 ],\n",
              "       [ 0.89397329, -0.46922616, -1.88209244, -0.15226508],\n",
              "       [-0.47757124,  1.05924779, -0.43843556, -0.08693381],\n",
              "       [ 1.26966338, -1.54289162, -0.93450005, -0.23046487],\n",
              "       [ 1.9019114 , -1.37440273, -0.20589692,  0.51593548],\n",
              "       [ 0.19908315,  0.68480709, -1.0622399 , -1.42731652],\n",
              "       [-0.13492301, -0.53107396, -0.19880333,  1.12132118],\n",
              "       [-1.30450074, -0.29416663, -0.32471599, -1.72457219],\n",
              "       [-0.29999466, -2.00228136, -2.30051572, -0.25848005],\n",
              "       [ 0.58542087,  1.55910408, -0.3171002 ,  0.59438825],\n",
              "       [ 0.02997267, -0.32480116, -1.11357374,  1.48934985],\n",
              "       [ 0.57522529,  1.73675878, -2.25279993, -0.87167144],\n",
              "       [ 0.47575251, -0.39433036,  0.20591069,  0.95383229],\n",
              "       [-0.97911734,  0.71915779,  0.59663754,  0.13660904],\n",
              "       [ 0.36817335, -1.04880581,  1.58059919,  0.58497902],\n",
              "       [ 0.04839605, -0.5972536 , -1.4463243 , -1.76339518],\n",
              "       [-0.91195719, -0.12136898,  2.27693508, -2.1356506 ],\n",
              "       [ 0.51005861,  0.89391971, -0.88004924,  1.4918451 ],\n",
              "       [-0.3401916 ,  1.81716467,  2.23463016, -0.55564214],\n",
              "       [ 0.78067654, -0.89206576, -0.80508492,  0.77395557],\n",
              "       [ 1.40390331,  1.35832049, -0.32175171, -0.17342934],\n",
              "       [ 1.24609647, -0.22293197, -0.79515276, -1.44973083],\n",
              "       [ 3.10314381,  0.01650074, -0.12517079,  0.32900151],\n",
              "       [ 1.84493524,  1.08729117, -0.41475388, -1.64991533],\n",
              "       [ 0.73112889, -2.15716921, -1.18112782,  0.31944453],\n",
              "       [ 0.20655902, -1.11751304, -2.57997742, -0.62093098],\n",
              "       [-2.6298517 , -0.24369896, -0.78772556, -1.48389955],\n",
              "       [ 0.86895992, -1.13409989,  0.19097515, -0.59950508],\n",
              "       [ 1.16857032,  0.66630341,  0.41753185,  0.16284349],\n",
              "       [ 0.863389  , -1.49844303,  0.92209286, -0.00459702],\n",
              "       [-1.0220643 , -0.67277797,  0.25882372,  0.2664059 ],\n",
              "       [-1.40056705,  1.2135762 , -0.01460769, -2.08394628],\n",
              "       [-0.18000478, -1.11687352, -0.48546197, -0.68264803],\n",
              "       [-0.03076093, -1.14456866,  0.58295321,  0.2894769 ],\n",
              "       [ 0.44919429,  0.60430528,  0.15240425,  0.67614431],\n",
              "       [ 0.39858874, -1.47084847,  0.51197995, -0.62624748],\n",
              "       [ 1.52248119, -0.27022989,  0.9246017 ,  0.24697252],\n",
              "       [-0.57269782,  0.76243626, -0.49615826,  0.60018234],\n",
              "       [ 0.71831755, -0.94432891,  1.35837483,  1.07273157],\n",
              "       [-2.28612422,  0.63347051, -0.89268397, -0.18708047],\n",
              "       [ 0.16073511,  0.97294457, -0.96378439,  0.38364271],\n",
              "       [-0.77150536, -1.63526561,  0.2648487 ,  0.98987544],\n",
              "       [-0.26293799,  0.49661829, -1.29430033, -0.42255536],\n",
              "       [ 0.09923837, -1.72160106, -0.40943319,  0.32386858],\n",
              "       [-0.68870197, -0.02250851,  1.3416668 , -1.14088039],\n",
              "       [-0.93092266, -1.29393573,  0.29993003, -0.85713887]])"
            ]
          },
          "metadata": {},
          "execution_count": 593
        }
      ]
    },
    {
      "cell_type": "code",
      "source": [
        "#Used Professor Tanvir's example but applied my data instead\n",
        "poly2 = PolynomialFeatures(degree = 2, include_bias = False)\n",
        "X_poly = poly2.fit_transform(X_train_scaled)\n",
        "X_poly_test = poly2.transform(X_test_scaled)\n",
        "poly2.fit(X_poly, y_train)\n",
        "linReg2 = LinearRegression().fit(X_poly, y_train)\n",
        "y_predPoly = linReg2.predict(X_poly_test)"
      ],
      "metadata": {
        "id": "HG3BC8NEXp0f"
      },
      "execution_count": null,
      "outputs": []
    },
    {
      "cell_type": "code",
      "source": [
        "plt.scatter(x = y_test, y = y_predPoly)"
      ],
      "metadata": {
        "id": "9OD2uBI7ZhlT",
        "colab": {
          "base_uri": "https://localhost:8080/",
          "height": 282
        },
        "outputId": "f9713fdb-fec6-4cf0-f98c-2ae8e2d7d229"
      },
      "execution_count": null,
      "outputs": [
        {
          "output_type": "execute_result",
          "data": {
            "text/plain": [
              "<matplotlib.collections.PathCollection at 0x7fb266171590>"
            ]
          },
          "metadata": {},
          "execution_count": 595
        },
        {
          "output_type": "display_data",
          "data": {
            "text/plain": [
              "<Figure size 432x288 with 1 Axes>"
            ],
            "image/png": "[encoded data removed]"
          },
          "metadata": {
            "needs_background": "light"
          }
        }
      ]
    },
    {
      "cell_type": "code",
      "source": [
        "print('Mean Absolute Error:', metrics.mean_absolute_error(y_test, y_predPoly))\n",
        "print('Mean Squared Error:', metrics.mean_squared_error(y_test, y_predPoly))\n",
        "print('Root Mean Squared Error:', np.sqrt(metrics.mean_squared_error(y_test, y_predPoly)))\n",
        "print(\"R^2: \", linReg2.score(X_poly_test, y_predPoly))"
      ],
      "metadata": {
        "colab": {
          "base_uri": "https://localhost:8080/"
        },
        "id": "94tJdQIscX2L",
        "outputId": "db09ed96-a42b-435a-ea32-50f46c963f6f"
      },
      "execution_count": null,
      "outputs": [
        {
          "output_type": "stream",
          "name": "stdout",
          "text": [
            "Mean Absolute Error: 7.432195703827283\n",
            "Mean Squared Error: 85.34745505512005\n",
            "Root Mean Squared Error: 9.238368636026603\n",
            "R^2:  1.0\n"
          ]
        }
      ]
    },
    {
      "cell_type": "code",
      "source": [
        "#Data was showing all values for y_test were infinity for some reason and messed up data\n",
        "y_test"
      ],
      "metadata": {
        "id": "Vh6beAGBakOz",
        "colab": {
          "base_uri": "https://localhost:8080/"
        },
        "outputId": "7f52f93b-6522-44b4-eca3-55e3737fa1c9"
      },
      "execution_count": null,
      "outputs": [
        {
          "output_type": "execute_result",
          "data": {
            "text/plain": [
              "18     453.315675\n",
              "361    402.033135\n",
              "104    411.069611\n",
              "4      600.406092\n",
              "156    587.155870\n",
              "          ...    \n",
              "147    480.731938\n",
              "346    489.387526\n",
              "423    462.112248\n",
              "17     408.704548\n",
              "259    376.398455\n",
              "Name: Yearly Amount Spent, Length: 150, dtype: float64"
            ]
          },
          "metadata": {},
          "execution_count": 597
        }
      ]
    },
    {
      "cell_type": "markdown",
      "source": [
        "##Poly 3"
      ],
      "metadata": {
        "id": "VrTDMiUEkF4m"
      }
    },
    {
      "cell_type": "code",
      "source": [
        "#Did the same process as Polynomial 2 but used degree 3 instead\n",
        "poly3 = PolynomialFeatures(degree = 3, include_bias = False)\n",
        "X_poly3 = poly3.fit_transform(X_train_scaled)\n",
        "X_poly_test3 = poly3.transform(X_test_scaled)\n",
        "poly3.fit(X_poly3, y_train)\n",
        "linReg3 = LinearRegression()\n",
        "linReg3.fit(X_poly3, y_train)\n",
        "y_predPoly3 = linReg3.predict(X_poly_test3)\n",
        "print(X_poly_test3)"
      ],
      "metadata": {
        "id": "SBTHWrUmakGd",
        "colab": {
          "base_uri": "https://localhost:8080/"
        },
        "outputId": "c0960784-e7ae-46ef-b54d-ba796ed57a6b"
      },
      "execution_count": null,
      "outputs": [
        {
          "output_type": "stream",
          "name": "stdout",
          "text": [
            "[[-8.39434765e-01  2.82084975e+00  1.19655468e+00 ... -2.95122827e+00\n",
            "   5.08402826e+00 -8.75816472e+00]\n",
            " [-9.49398162e-01 -1.77482422e+00  2.02082872e+00 ... -4.45110482e-01\n",
            "   2.40075106e-02 -1.29487079e-03]\n",
            " [-1.63578852e+00 -1.09471140e+00  1.02197172e+00 ... -1.19897332e-01\n",
            "   1.34679780e-02 -1.51284794e-03]\n",
            " ...\n",
            " [ 9.92383726e-02 -1.72160106e+00 -4.09433186e-01 ...  5.42918820e-02\n",
            "  -4.29457974e-02  3.39708525e-02]\n",
            " [-6.88701970e-01 -2.25085123e-02  1.34166680e+00 ... -2.05366434e+00\n",
            "   1.74632433e+00 -1.48497911e+00]\n",
            " [-9.30922662e-01 -1.29393573e+00  2.99930028e-01 ... -7.71065169e-02\n",
            "   2.20354704e-01 -6.29728817e-01]]\n"
          ]
        }
      ]
    },
    {
      "cell_type": "code",
      "source": [
        "print(X_poly_test)\n",
        "print(y_test)"
      ],
      "metadata": {
        "colab": {
          "base_uri": "https://localhost:8080/"
        },
        "id": "_pZuN5jl205V",
        "outputId": "444f2b81-b866-4ee9-bfd0-313a3beb9309"
      },
      "execution_count": null,
      "outputs": [
        {
          "output_type": "stream",
          "name": "stdout",
          "text": [
            "[[-0.83943476  2.82084975  1.19655468 ...  1.4317431  -2.46643828\n",
            "   4.2488892 ]\n",
            " [-0.94939816 -1.77482422  2.02082872 ...  4.0837487  -0.22026136\n",
            "   0.01188003]\n",
            " [-1.63578852 -1.0947114   1.02197172 ...  1.0444262  -0.11731962\n",
            "   0.01317843]\n",
            " ...\n",
            " [ 0.09923837 -1.72160106 -0.40943319 ...  0.16763553 -0.13260254\n",
            "   0.10489086]\n",
            " [-0.68870197 -0.02250851  1.3416668  ...  1.80006981 -1.53068134\n",
            "   1.30160806]\n",
            " [-0.93092266 -1.29393573  0.29993003 ...  0.08995802 -0.25708168\n",
            "   0.73468704]]\n",
            "18     453.315675\n",
            "361    402.033135\n",
            "104    411.069611\n",
            "4      600.406092\n",
            "156    587.155870\n",
            "          ...    \n",
            "147    480.731938\n",
            "346    489.387526\n",
            "423    462.112248\n",
            "17     408.704548\n",
            "259    376.398455\n",
            "Name: Yearly Amount Spent, Length: 150, dtype: float64\n"
          ]
        }
      ]
    },
    {
      "cell_type": "code",
      "source": [
        "plt.scatter(x = y_test, y = y_predPoly3)"
      ],
      "metadata": {
        "id": "X5Q33PngahYw",
        "colab": {
          "base_uri": "https://localhost:8080/",
          "height": 282
        },
        "outputId": "17ea9fa4-3061-4759-91f3-aa525bdb7e37"
      },
      "execution_count": null,
      "outputs": [
        {
          "output_type": "execute_result",
          "data": {
            "text/plain": [
              "<matplotlib.collections.PathCollection at 0x7fb26612fe90>"
            ]
          },
          "metadata": {},
          "execution_count": 600
        },
        {
          "output_type": "display_data",
          "data": {
            "text/plain": [
              "<Figure size 432x288 with 1 Axes>"
            ],
            "image/png": "[encoded data removed]"
          },
          "metadata": {
            "needs_background": "light"
          }
        }
      ]
    },
    {
      "cell_type": "code",
      "source": [
        "print('Mean Absolute Error:', metrics.mean_absolute_error(y_test, y_predPoly3))\n",
        "print('Mean Squared Error:', metrics.mean_squared_error(y_test, y_predPoly3))\n",
        "print('Root Mean Squared Error:', np.sqrt(metrics.mean_squared_error(y_test, y_predPoly3)))\n",
        "print(\"R^2: \", linReg3.score(X_poly_test3, y_predPoly3))"
      ],
      "metadata": {
        "colab": {
          "base_uri": "https://localhost:8080/"
        },
        "id": "cykKX6hIc7q1",
        "outputId": "ed36f00b-3070-477d-88e2-4ae8a44b86d8"
      },
      "execution_count": null,
      "outputs": [
        {
          "output_type": "stream",
          "name": "stdout",
          "text": [
            "Mean Absolute Error: 7.695801008025616\n",
            "Mean Squared Error: 94.96886930851997\n",
            "Root Mean Squared Error: 9.745197243181893\n",
            "R^2:  1.0\n"
          ]
        }
      ]
    },
    {
      "cell_type": "code",
      "source": [],
      "metadata": {
        "id": "iNPlVf2GfsKM"
      },
      "execution_count": null,
      "outputs": []
    },
    {
      "cell_type": "markdown",
      "source": [
        "##12.Learning Curve"
      ],
      "metadata": {
        "id": "yjmSvSFCkKwg"
      }
    },
    {
      "cell_type": "code",
      "source": [
        "##used professor Tanvirs Learning Curve Code\n",
        "linreg = LinearRegression()\n",
        "train_errors, val_errors = [],[]\n",
        "for m in range(1, len(X_train_scaled)):\n",
        " linreg.fit(X_train_scaled[:m], y_train[:m])\n",
        " y_train_predict = linreg.predict(X_train_scaled[:m])\n",
        " y_val_predict = linreg.predict(X_test_scaled)\n",
        " train_errors.append(metrics.mean_squared_error(y_train[:m], y_train_predict))\n",
        " val_errors.append(metrics.mean_squared_error(y_test, y_val_predict))\n",
        "plt.plot(np.sqrt(train_errors), \"r-+\", linewidth =2, label='train')\n",
        "plt.plot(np.sqrt(val_errors), 'b-', linewidth =3 , label ='val') "
      ],
      "metadata": {
        "id": "r-sPUjVUfEP6",
        "colab": {
          "base_uri": "https://localhost:8080/",
          "height": 282
        },
        "outputId": "b8482266-f61d-4ce0-8071-7f00b9796928"
      },
      "execution_count": null,
      "outputs": [
        {
          "output_type": "execute_result",
          "data": {
            "text/plain": [
              "[<matplotlib.lines.Line2D at 0x7fb266cdd810>]"
            ]
          },
          "metadata": {},
          "execution_count": 669
        },
        {
          "output_type": "display_data",
          "data": {
            "text/plain": [
              "<Figure size 432x288 with 1 Axes>"
            ],
            "image/png": "[encoded data removed]"
          },
          "metadata": {
            "needs_background": "light"
          }
        }
      ]
    },
    {
      "cell_type": "markdown",
      "source": [
        "##13. Regularization"
      ],
      "metadata": {
        "id": "fAwMtft9fF9U"
      }
    },
    {
      "cell_type": "markdown",
      "source": [
        "The purpose of regulartization is to constrain a model and reduce the risk of overfitting it"
      ],
      "metadata": {
        "id": "vIEtS4I8fNpH"
      }
    },
    {
      "cell_type": "markdown",
      "source": [
        "##14. Ridge Regression"
      ],
      "metadata": {
        "id": "i6GmmywDfPBS"
      }
    },
    {
      "cell_type": "code",
      "source": [
        "from sklearn.linear_model import Ridge\n",
        "ridge = Ridge(alpha = 1, solver = 'cholesky')\n",
        "#Fit Ridge Regression model\n",
        "ridge.fit(X_train_scaled, y_train)\n",
        "predRidge = ridge.predict(X_test_scaled)\n",
        "plt.scatter(x = y_test, y = predRidge)"
      ],
      "metadata": {
        "colab": {
          "base_uri": "https://localhost:8080/",
          "height": 282
        },
        "id": "q0oSIoszfOXd",
        "outputId": "a0e62508-3098-4d8d-d54b-2953d1ea6477"
      },
      "execution_count": null,
      "outputs": [
        {
          "output_type": "execute_result",
          "data": {
            "text/plain": [
              "<matplotlib.collections.PathCollection at 0x7fb2665ada50>"
            ]
          },
          "metadata": {},
          "execution_count": 630
        },
        {
          "output_type": "display_data",
          "data": {
            "text/plain": [
              "<Figure size 432x288 with 1 Axes>"
            ],
            "image/png": "[encoded data removed]"
          },
          "metadata": {
            "needs_background": "light"
          }
        }
      ]
    },
    {
      "cell_type": "code",
      "source": [
        "#Print Scores\n",
        "scores(predRidge, ridge)"
      ],
      "metadata": {
        "colab": {
          "base_uri": "https://localhost:8080/"
        },
        "id": "SFKTF3Sjgxs6",
        "outputId": "bdc7d4a5-c9d1-48f1-8930-6686def42bbc"
      },
      "execution_count": null,
      "outputs": [
        {
          "output_type": "stream",
          "name": "stdout",
          "text": [
            "Mean Absolute Error: 7.244352267448451\n",
            "Mean Squared Error: 80.16040927389093\n",
            "Root Mean Squared Error: 8.953234570471777\n",
            "R^2:  0.988956771254698\n"
          ]
        }
      ]
    },
    {
      "cell_type": "markdown",
      "source": [
        "#15. SGD Regressor for Ridge"
      ],
      "metadata": {
        "id": "hCw_J_4sfR7D"
      }
    },
    {
      "cell_type": "code",
      "source": [
        "from sklearn.linear_model import SGDRegressor\n",
        "ridge2 = SGDRegressor(penalty='l2')\n",
        "#Fit SDGRegressor data\n",
        "ridge2.fit(X_train_scaled, y_train)\n",
        "ridge2_pred = ridge2.predict(X_test_scaled)\n",
        "plt.scatter(x = y_test, y = ridge2_pred)"
      ],
      "metadata": {
        "colab": {
          "base_uri": "https://localhost:8080/",
          "height": 282
        },
        "id": "pDTPAd05fS2-",
        "outputId": "fb2f6cd2-8c4c-4573-be32-1e062de1dcdb"
      },
      "execution_count": null,
      "outputs": [
        {
          "output_type": "execute_result",
          "data": {
            "text/plain": [
              "<matplotlib.collections.PathCollection at 0x7fb26600e790>"
            ]
          },
          "metadata": {},
          "execution_count": 605
        },
        {
          "output_type": "display_data",
          "data": {
            "text/plain": [
              "<Figure size 432x288 with 1 Axes>"
            ],
            "image/png": "[encoded data removed]"
          },
          "metadata": {
            "needs_background": "light"
          }
        }
      ]
    },
    {
      "cell_type": "code",
      "source": [
        "#Print Scores\n",
        "scores(ridge2_pred, ridge2)"
      ],
      "metadata": {
        "colab": {
          "base_uri": "https://localhost:8080/"
        },
        "id": "bVg-BSl7hA6b",
        "outputId": "cc3bb881-90e5-43fc-8d99-c572a30c88da"
      },
      "execution_count": null,
      "outputs": [
        {
          "output_type": "stream",
          "name": "stdout",
          "text": [
            "Mean Absolute Error: 7.2265871034612035\n",
            "Mean Squared Error: 79.83623704797654\n",
            "Root Mean Squared Error: 8.93511259290987\n",
            "R^2:  0.9890014305581631\n"
          ]
        }
      ]
    },
    {
      "cell_type": "markdown",
      "source": [
        "##16. Lasso Regression"
      ],
      "metadata": {
        "id": "c0I-IsgbfSbn"
      }
    },
    {
      "cell_type": "code",
      "source": [
        "from sklearn.linear_model import Lasso\n",
        "lasso = Lasso(alpha = 0.1)\n",
        "#Fit data with Lass Regression\n",
        "lasso.fit(X_train_scaled, y_train)\n",
        "predLasso = lasso.predict(X_test_scaled)\n",
        "plt.scatter(x = y_test, y = predLasso)"
      ],
      "metadata": {
        "colab": {
          "base_uri": "https://localhost:8080/",
          "height": 282
        },
        "id": "Zg8sEevUfarD",
        "outputId": "8306a95a-8776-42c6-80b0-b55c3e0248e9"
      },
      "execution_count": null,
      "outputs": [
        {
          "output_type": "execute_result",
          "data": {
            "text/plain": [
              "<matplotlib.collections.PathCollection at 0x7fb2663161d0>"
            ]
          },
          "metadata": {},
          "execution_count": 629
        },
        {
          "output_type": "display_data",
          "data": {
            "text/plain": [
              "<Figure size 432x288 with 1 Axes>"
            ],
            "image/png": "[encoded data removed]"
          },
          "metadata": {
            "needs_background": "light"
          }
        }
      ]
    },
    {
      "cell_type": "code",
      "source": [
        "#Print Scores\n",
        "scores(predLasso, lasso)"
      ],
      "metadata": {
        "colab": {
          "base_uri": "https://localhost:8080/"
        },
        "id": "yvZ89Q8qhPsi",
        "outputId": "2ecbc006-306a-4797-edd8-a4c09ea29428"
      },
      "execution_count": null,
      "outputs": [
        {
          "output_type": "stream",
          "name": "stdout",
          "text": [
            "Mean Absolute Error: 7.4972901230259446\n",
            "Mean Squared Error: 85.09358727938405\n",
            "Root Mean Squared Error: 9.224618543841476\n",
            "R^2:  0.9882771562970223\n"
          ]
        }
      ]
    },
    {
      "cell_type": "markdown",
      "source": [
        "## 17. Elastic Net"
      ],
      "metadata": {
        "id": "mBFQ05nWfbPd"
      }
    },
    {
      "cell_type": "code",
      "source": [
        "#Elastic Net model\n",
        "from sklearn.linear_model import ElasticNet\n",
        "elastic = ElasticNet(alpha = 0.1, l1_ratio=0.5)\n",
        "elastic.fit(X_train_scaled, y_train)\n",
        "#Predict for test set with Elastic\n",
        "predElastic = elastic.predict(X_test_scaled)\n",
        "#Generate Scatter plot\n",
        "plt.scatter(x = y_test, y = predElastic)"
      ],
      "metadata": {
        "colab": {
          "base_uri": "https://localhost:8080/",
          "height": 282
        },
        "id": "HTASMduMkuHe",
        "outputId": "5b98d600-2af4-426a-be20-4b2de0ead575"
      },
      "execution_count": null,
      "outputs": [
        {
          "output_type": "execute_result",
          "data": {
            "text/plain": [
              "<matplotlib.collections.PathCollection at 0x7fb265e75f50>"
            ]
          },
          "metadata": {},
          "execution_count": 628
        },
        {
          "output_type": "display_data",
          "data": {
            "text/plain": [
              "<Figure size 432x288 with 1 Axes>"
            ],
            "image/png": "[encoded data removed]"
          },
          "metadata": {
            "needs_background": "light"
          }
        }
      ]
    },
    {
      "cell_type": "code",
      "source": [
        "#Print Scores\n",
        "scores(predElastic, elastic)"
      ],
      "metadata": {
        "colab": {
          "base_uri": "https://localhost:8080/"
        },
        "id": "Oh2hZWBLhcyv",
        "outputId": "2c65b071-21ff-4e42-d6ab-ec1ad6cd6d0b"
      },
      "execution_count": null,
      "outputs": [
        {
          "output_type": "stream",
          "name": "stdout",
          "text": [
            "Mean Absolute Error: 23.811342375585202\n",
            "Mean Squared Error: 919.2076341706571\n",
            "Root Mean Squared Error: 30.31843719868584\n",
            "R^2:  0.8733661634150279\n"
          ]
        }
      ]
    },
    {
      "cell_type": "markdown",
      "source": [
        "Elastic net takes the average penalty of lasso and ridge"
      ],
      "metadata": {
        "id": "6WcwE5npsbtK"
      }
    }
  ]
}